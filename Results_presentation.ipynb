{
  "nbformat": 4,
  "nbformat_minor": 0,
  "metadata": {
    "colab": {
      "provenance": [],
      "authorship_tag": "ABX9TyMPoCgILFvFjLXwlwZEThJ6",
      "include_colab_link": true
    },
    "kernelspec": {
      "name": "python3",
      "display_name": "Python 3"
    },
    "language_info": {
      "name": "python"
    }
  },
  "cells": [
    {
      "cell_type": "markdown",
      "metadata": {
        "id": "view-in-github",
        "colab_type": "text"
      },
      "source": [
        "<a href=\"https://colab.research.google.com/github/cristinarainich/DDCS/blob/main/Results_presentation.ipynb\" target=\"_parent\"><img src=\"https://colab.research.google.com/assets/colab-badge.svg\" alt=\"Open In Colab\"/></a>"
      ]
    },
    {
      "cell_type": "code",
      "execution_count": 1,
      "metadata": {
        "id": "kqclWHpAr1q5",
        "colab": {
          "base_uri": "https://localhost:8080/"
        },
        "outputId": "b924b4ee-e631-4cd6-82c7-49f2f6359019"
      },
      "outputs": [
        {
          "output_type": "stream",
          "name": "stdout",
          "text": [
            "Populating the interactive namespace from numpy and matplotlib\n"
          ]
        }
      ],
      "source": [
        "from pathlib import Path\n",
        "import pandas as pd\n",
        "import numpy as np\n",
        "import math\n",
        "import pylab as pl\n",
        "import matplotlib.pyplot as plt\n",
        "import seaborn as sns\n",
        "from scipy import stats\n",
        "%pylab inline"
      ]
    },
    {
      "cell_type": "code",
      "source": [
        "from google.colab import drive\n",
        "drive.mount('/content/drive')"
      ],
      "metadata": {
        "colab": {
          "base_uri": "https://localhost:8080/"
        },
        "id": "TXnPIByDGAMd",
        "outputId": "2e3b8460-abe9-4e52-fa80-1786c51d0ea2"
      },
      "execution_count": 2,
      "outputs": [
        {
          "output_type": "stream",
          "name": "stdout",
          "text": [
            "Mounted at /content/drive\n"
          ]
        }
      ]
    },
    {
      "cell_type": "code",
      "source": [
        "sns.set()"
      ],
      "metadata": {
        "id": "c4I3Bye6ufH7"
      },
      "execution_count": 3,
      "outputs": []
    },
    {
      "cell_type": "code",
      "source": [
        "# put everything in a separate folder\n",
        "working_path = Path('/content/drive/MyDrive/KKNV/data/tv')"
      ],
      "metadata": {
        "id": "lf9cpbMLVjv6"
      },
      "execution_count": 4,
      "outputs": []
    },
    {
      "cell_type": "code",
      "source": [
        "cd /content/drive/MyDrive/KKNV/data/tv"
      ],
      "metadata": {
        "colab": {
          "base_uri": "https://localhost:8080/"
        },
        "id": "MAgCvymuVtCp",
        "outputId": "6c93c608-555f-4825-beb3-48480552953b"
      },
      "execution_count": 5,
      "outputs": [
        {
          "output_type": "stream",
          "name": "stdout",
          "text": [
            "/content/drive/MyDrive/KKNV/data/tv\n"
          ]
        }
      ]
    },
    {
      "cell_type": "code",
      "source": [
        "!ls /content/drive/MyDrive/KKNV/data/tv/motion"
      ],
      "metadata": {
        "colab": {
          "base_uri": "https://localhost:8080/"
        },
        "id": "vukixa86VvHu",
        "outputId": "5ec1187e-cd4c-4591-a477-3c4f58ccb619"
      },
      "execution_count": 6,
      "outputs": [
        {
          "output_type": "stream",
          "name": "stdout",
          "text": [
            "Erik_sham_left.csv   Erik_stim_left.csv   Kris_sham_left.csv   Kris_stim_left.csv\n",
            "Erik_sham_right.csv  Erik_stim_right.csv  Kris_sham_right.csv  Kris_stim_right.csv\n"
          ]
        }
      ]
    },
    {
      "cell_type": "code",
      "source": [
        "def create_plots(data, plot, title):\n",
        "  bar_width = 0.35\n",
        "  positions = list(range(len(data['Subject'].unique()) * 2)) # Twice the number of subjects for two sessions\n",
        "  # Create subplots\n",
        "  fig, ax = plt.subplots(figsize=(4, 4))\n",
        "\n",
        "  pastel_blue = '#AEC6CF'\n",
        "  pastel_orange = '#FFB347'\n",
        "\n",
        "  #session 1 = stimulation, session 2 = sham\n",
        "\n",
        "  subjects = data['Subject'].unique()\n",
        "  for i, subject in enumerate(subjects):\n",
        "      session1_value = data[(data['Subject'] == subject) & (data['Session'] == 1)][plot].mean()\n",
        "      session2_value = data[(data['Subject'] == subject) & (data['Session'] == 2)][plot].mean()\n",
        "\n",
        "    # Plotting session values with different colors for different sessions\n",
        "      ax.bar(i * 2 - bar_width/2, session1_value, bar_width, alpha=0.7, label=f'Stimulation' if i == 0 else \"\", color=pastel_blue)\n",
        "      ax.bar(i * 2 + bar_width/2, session2_value, bar_width, alpha=0.7, label=f'Sham' if i == 0 else \"\", color=pastel_orange)\n",
        "\n",
        "# Setting the y-axis label and the title\n",
        "  ax.set_ylabel(plot)\n",
        "  ax.set_title(title)\n",
        "\n",
        "# Setting the position of the x ticks\n",
        "  ax.set_xticks([i * 2 for i in range(len(subjects))])\n",
        "  ax.set_xticklabels(subjects)\n",
        "\n",
        "# Adding the legend and showing the plot\n",
        "  plt.legend(loc='upper left', bbox_to_anchor=(1, 1))\n",
        "  plt.grid(axis='y', linestyle='--', alpha=0.7)\n",
        "  plt.tight_layout()\n",
        "  plt.show()"
      ],
      "metadata": {
        "id": "hkdNhoiUh7s2"
      },
      "execution_count": 7,
      "outputs": []
    },
    {
      "cell_type": "markdown",
      "source": [
        "## RAN results\n",
        "\n"
      ],
      "metadata": {
        "id": "uQxfgSunFlt9"
      }
    },
    {
      "cell_type": "code",
      "source": [
        "# PUT THE VALUES BELOW\n",
        "# Group, session, RANletters Acc 1, RANletters Acc 2, RANletters RT 1, RANletters RT 2\n",
        "# RANnumbers Acc 1, RANnumbers Acc 2, RANnumbers RT 1, RANnumbers RT 2\n",
        "raw1 = ['Erik', 1, 0, 0, 18, 17, 1, 0, 15, 13] # stimulation\n",
        "raw2 = ['Erik', 2, 0, 0, 21, 20, 0, 0, 17, 18] # sham\n",
        "raw3 = ['Kristin', 1, 1, 1, 21, 25, 2, 0, 22, 21] # stimulation\n",
        "raw4 = ['Kristin', 2, 2, 1, 19, 18, 2, 0, 21, 19] # sham\n",
        "\n",
        "rows = []\n",
        "rows.append(raw1)\n",
        "rows.append(raw2)\n",
        "rows.append(raw3)\n",
        "rows.append(raw4)\n",
        "column_names = ['Subject', 'Session', 'RANL ACC 1', 'RANL ACC 2', 'RANL RT 1', 'RANL RT 2', 'RANN ACC 1', 'RANN ACC 2', 'RANN RT 1', 'RANN RT 2']"
      ],
      "metadata": {
        "id": "wX5x9UWjmroS"
      },
      "execution_count": 9,
      "outputs": []
    },
    {
      "cell_type": "code",
      "source": [
        "df = pd.DataFrame(rows, columns=column_names)"
      ],
      "metadata": {
        "id": "_V7T-mM-pxH8"
      },
      "execution_count": 10,
      "outputs": []
    },
    {
      "cell_type": "code",
      "source": [
        "df['AccL'] = 100 - df[['RANL ACC 1', 'RANL ACC 2']].mean(axis=1) * 100/50\n",
        "df['AccN'] = 100 - df[['RANN ACC 1', 'RANN ACC 2']].mean(axis=1) * 100/50\n",
        "df['RT L'] = df[['RANL RT 1', 'RANL RT 2']].mean(axis=1)\n",
        "df['RT N'] = df[['RANN RT 1', 'RANN RT 1']].mean(axis=1)"
      ],
      "metadata": {
        "id": "fVa-Omm2qUbc"
      },
      "execution_count": 11,
      "outputs": []
    },
    {
      "cell_type": "code",
      "source": [
        "df['Genauigkeit'] = df[['AccL', 'AccN']].mean(axis=1)\n",
        "df['Reaktionszeit'] = df[['RT L', 'RT N']].mean(axis=1)"
      ],
      "metadata": {
        "id": "AcfvbZAy51wp"
      },
      "execution_count": 12,
      "outputs": []
    },
    {
      "cell_type": "code",
      "source": [
        "df"
      ],
      "metadata": {
        "id": "xRmyoFqvR6Pt",
        "outputId": "b8f7f4aa-60be-4203-eb64-27bc0d226414",
        "colab": {
          "base_uri": "https://localhost:8080/",
          "height": 175
        }
      },
      "execution_count": 13,
      "outputs": [
        {
          "output_type": "execute_result",
          "data": {
            "text/plain": [
              "   Subject  Session  RANL ACC 1  RANL ACC 2  RANL RT 1  RANL RT 2  RANN ACC 1  \\\n",
              "0     Erik        1           0           0         18         17           1   \n",
              "1     Erik        2           0           0         21         20           0   \n",
              "2  Kristin        1           1           1         21         25           2   \n",
              "3  Kristin        2           2           1         19         18           2   \n",
              "\n",
              "   RANN ACC 2  RANN RT 1  RANN RT 2   AccL   AccN  RT L  RT N  Genauigkeit  \\\n",
              "0           0         15         13  100.0   99.0  17.5  15.0         99.5   \n",
              "1           0         17         18  100.0  100.0  20.5  17.0        100.0   \n",
              "2           0         22         21   98.0   98.0  23.0  22.0         98.0   \n",
              "3           0         21         19   97.0   98.0  18.5  21.0         97.5   \n",
              "\n",
              "   Reaktionszeit  \n",
              "0          16.25  \n",
              "1          18.75  \n",
              "2          22.50  \n",
              "3          19.75  "
            ],
            "text/html": [
              "\n",
              "  <div id=\"df-6c4b9522-4c76-4894-bd95-e9e4615f2c81\" class=\"colab-df-container\">\n",
              "    <div>\n",
              "<style scoped>\n",
              "    .dataframe tbody tr th:only-of-type {\n",
              "        vertical-align: middle;\n",
              "    }\n",
              "\n",
              "    .dataframe tbody tr th {\n",
              "        vertical-align: top;\n",
              "    }\n",
              "\n",
              "    .dataframe thead th {\n",
              "        text-align: right;\n",
              "    }\n",
              "</style>\n",
              "<table border=\"1\" class=\"dataframe\">\n",
              "  <thead>\n",
              "    <tr style=\"text-align: right;\">\n",
              "      <th></th>\n",
              "      <th>Subject</th>\n",
              "      <th>Session</th>\n",
              "      <th>RANL ACC 1</th>\n",
              "      <th>RANL ACC 2</th>\n",
              "      <th>RANL RT 1</th>\n",
              "      <th>RANL RT 2</th>\n",
              "      <th>RANN ACC 1</th>\n",
              "      <th>RANN ACC 2</th>\n",
              "      <th>RANN RT 1</th>\n",
              "      <th>RANN RT 2</th>\n",
              "      <th>AccL</th>\n",
              "      <th>AccN</th>\n",
              "      <th>RT L</th>\n",
              "      <th>RT N</th>\n",
              "      <th>Genauigkeit</th>\n",
              "      <th>Reaktionszeit</th>\n",
              "    </tr>\n",
              "  </thead>\n",
              "  <tbody>\n",
              "    <tr>\n",
              "      <th>0</th>\n",
              "      <td>Erik</td>\n",
              "      <td>1</td>\n",
              "      <td>0</td>\n",
              "      <td>0</td>\n",
              "      <td>18</td>\n",
              "      <td>17</td>\n",
              "      <td>1</td>\n",
              "      <td>0</td>\n",
              "      <td>15</td>\n",
              "      <td>13</td>\n",
              "      <td>100.0</td>\n",
              "      <td>99.0</td>\n",
              "      <td>17.5</td>\n",
              "      <td>15.0</td>\n",
              "      <td>99.5</td>\n",
              "      <td>16.25</td>\n",
              "    </tr>\n",
              "    <tr>\n",
              "      <th>1</th>\n",
              "      <td>Erik</td>\n",
              "      <td>2</td>\n",
              "      <td>0</td>\n",
              "      <td>0</td>\n",
              "      <td>21</td>\n",
              "      <td>20</td>\n",
              "      <td>0</td>\n",
              "      <td>0</td>\n",
              "      <td>17</td>\n",
              "      <td>18</td>\n",
              "      <td>100.0</td>\n",
              "      <td>100.0</td>\n",
              "      <td>20.5</td>\n",
              "      <td>17.0</td>\n",
              "      <td>100.0</td>\n",
              "      <td>18.75</td>\n",
              "    </tr>\n",
              "    <tr>\n",
              "      <th>2</th>\n",
              "      <td>Kristin</td>\n",
              "      <td>1</td>\n",
              "      <td>1</td>\n",
              "      <td>1</td>\n",
              "      <td>21</td>\n",
              "      <td>25</td>\n",
              "      <td>2</td>\n",
              "      <td>0</td>\n",
              "      <td>22</td>\n",
              "      <td>21</td>\n",
              "      <td>98.0</td>\n",
              "      <td>98.0</td>\n",
              "      <td>23.0</td>\n",
              "      <td>22.0</td>\n",
              "      <td>98.0</td>\n",
              "      <td>22.50</td>\n",
              "    </tr>\n",
              "    <tr>\n",
              "      <th>3</th>\n",
              "      <td>Kristin</td>\n",
              "      <td>2</td>\n",
              "      <td>2</td>\n",
              "      <td>1</td>\n",
              "      <td>19</td>\n",
              "      <td>18</td>\n",
              "      <td>2</td>\n",
              "      <td>0</td>\n",
              "      <td>21</td>\n",
              "      <td>19</td>\n",
              "      <td>97.0</td>\n",
              "      <td>98.0</td>\n",
              "      <td>18.5</td>\n",
              "      <td>21.0</td>\n",
              "      <td>97.5</td>\n",
              "      <td>19.75</td>\n",
              "    </tr>\n",
              "  </tbody>\n",
              "</table>\n",
              "</div>\n",
              "    <div class=\"colab-df-buttons\">\n",
              "\n",
              "  <div class=\"colab-df-container\">\n",
              "    <button class=\"colab-df-convert\" onclick=\"convertToInteractive('df-6c4b9522-4c76-4894-bd95-e9e4615f2c81')\"\n",
              "            title=\"Convert this dataframe to an interactive table.\"\n",
              "            style=\"display:none;\">\n",
              "\n",
              "  <svg xmlns=\"http://www.w3.org/2000/svg\" height=\"24px\" viewBox=\"0 -960 960 960\">\n",
              "    <path d=\"M120-120v-720h720v720H120Zm60-500h600v-160H180v160Zm220 220h160v-160H400v160Zm0 220h160v-160H400v160ZM180-400h160v-160H180v160Zm440 0h160v-160H620v160ZM180-180h160v-160H180v160Zm440 0h160v-160H620v160Z\"/>\n",
              "  </svg>\n",
              "    </button>\n",
              "\n",
              "  <style>\n",
              "    .colab-df-container {\n",
              "      display:flex;\n",
              "      gap: 12px;\n",
              "    }\n",
              "\n",
              "    .colab-df-convert {\n",
              "      background-color: #E8F0FE;\n",
              "      border: none;\n",
              "      border-radius: 50%;\n",
              "      cursor: pointer;\n",
              "      display: none;\n",
              "      fill: #1967D2;\n",
              "      height: 32px;\n",
              "      padding: 0 0 0 0;\n",
              "      width: 32px;\n",
              "    }\n",
              "\n",
              "    .colab-df-convert:hover {\n",
              "      background-color: #E2EBFA;\n",
              "      box-shadow: 0px 1px 2px rgba(60, 64, 67, 0.3), 0px 1px 3px 1px rgba(60, 64, 67, 0.15);\n",
              "      fill: #174EA6;\n",
              "    }\n",
              "\n",
              "    .colab-df-buttons div {\n",
              "      margin-bottom: 4px;\n",
              "    }\n",
              "\n",
              "    [theme=dark] .colab-df-convert {\n",
              "      background-color: #3B4455;\n",
              "      fill: #D2E3FC;\n",
              "    }\n",
              "\n",
              "    [theme=dark] .colab-df-convert:hover {\n",
              "      background-color: #434B5C;\n",
              "      box-shadow: 0px 1px 3px 1px rgba(0, 0, 0, 0.15);\n",
              "      filter: drop-shadow(0px 1px 2px rgba(0, 0, 0, 0.3));\n",
              "      fill: #FFFFFF;\n",
              "    }\n",
              "  </style>\n",
              "\n",
              "    <script>\n",
              "      const buttonEl =\n",
              "        document.querySelector('#df-6c4b9522-4c76-4894-bd95-e9e4615f2c81 button.colab-df-convert');\n",
              "      buttonEl.style.display =\n",
              "        google.colab.kernel.accessAllowed ? 'block' : 'none';\n",
              "\n",
              "      async function convertToInteractive(key) {\n",
              "        const element = document.querySelector('#df-6c4b9522-4c76-4894-bd95-e9e4615f2c81');\n",
              "        const dataTable =\n",
              "          await google.colab.kernel.invokeFunction('convertToInteractive',\n",
              "                                                    [key], {});\n",
              "        if (!dataTable) return;\n",
              "\n",
              "        const docLinkHtml = 'Like what you see? Visit the ' +\n",
              "          '<a target=\"_blank\" href=https://colab.research.google.com/notebooks/data_table.ipynb>data table notebook</a>'\n",
              "          + ' to learn more about interactive tables.';\n",
              "        element.innerHTML = '';\n",
              "        dataTable['output_type'] = 'display_data';\n",
              "        await google.colab.output.renderOutput(dataTable, element);\n",
              "        const docLink = document.createElement('div');\n",
              "        docLink.innerHTML = docLinkHtml;\n",
              "        element.appendChild(docLink);\n",
              "      }\n",
              "    </script>\n",
              "  </div>\n",
              "\n",
              "\n",
              "<div id=\"df-12bf584c-baa9-4b9d-a411-9a94864a4981\">\n",
              "  <button class=\"colab-df-quickchart\" onclick=\"quickchart('df-12bf584c-baa9-4b9d-a411-9a94864a4981')\"\n",
              "            title=\"Suggest charts\"\n",
              "            style=\"display:none;\">\n",
              "\n",
              "<svg xmlns=\"http://www.w3.org/2000/svg\" height=\"24px\"viewBox=\"0 0 24 24\"\n",
              "     width=\"24px\">\n",
              "    <g>\n",
              "        <path d=\"M19 3H5c-1.1 0-2 .9-2 2v14c0 1.1.9 2 2 2h14c1.1 0 2-.9 2-2V5c0-1.1-.9-2-2-2zM9 17H7v-7h2v7zm4 0h-2V7h2v10zm4 0h-2v-4h2v4z\"/>\n",
              "    </g>\n",
              "</svg>\n",
              "  </button>\n",
              "\n",
              "<style>\n",
              "  .colab-df-quickchart {\n",
              "      --bg-color: #E8F0FE;\n",
              "      --fill-color: #1967D2;\n",
              "      --hover-bg-color: #E2EBFA;\n",
              "      --hover-fill-color: #174EA6;\n",
              "      --disabled-fill-color: #AAA;\n",
              "      --disabled-bg-color: #DDD;\n",
              "  }\n",
              "\n",
              "  [theme=dark] .colab-df-quickchart {\n",
              "      --bg-color: #3B4455;\n",
              "      --fill-color: #D2E3FC;\n",
              "      --hover-bg-color: #434B5C;\n",
              "      --hover-fill-color: #FFFFFF;\n",
              "      --disabled-bg-color: #3B4455;\n",
              "      --disabled-fill-color: #666;\n",
              "  }\n",
              "\n",
              "  .colab-df-quickchart {\n",
              "    background-color: var(--bg-color);\n",
              "    border: none;\n",
              "    border-radius: 50%;\n",
              "    cursor: pointer;\n",
              "    display: none;\n",
              "    fill: var(--fill-color);\n",
              "    height: 32px;\n",
              "    padding: 0;\n",
              "    width: 32px;\n",
              "  }\n",
              "\n",
              "  .colab-df-quickchart:hover {\n",
              "    background-color: var(--hover-bg-color);\n",
              "    box-shadow: 0 1px 2px rgba(60, 64, 67, 0.3), 0 1px 3px 1px rgba(60, 64, 67, 0.15);\n",
              "    fill: var(--button-hover-fill-color);\n",
              "  }\n",
              "\n",
              "  .colab-df-quickchart-complete:disabled,\n",
              "  .colab-df-quickchart-complete:disabled:hover {\n",
              "    background-color: var(--disabled-bg-color);\n",
              "    fill: var(--disabled-fill-color);\n",
              "    box-shadow: none;\n",
              "  }\n",
              "\n",
              "  .colab-df-spinner {\n",
              "    border: 2px solid var(--fill-color);\n",
              "    border-color: transparent;\n",
              "    border-bottom-color: var(--fill-color);\n",
              "    animation:\n",
              "      spin 1s steps(1) infinite;\n",
              "  }\n",
              "\n",
              "  @keyframes spin {\n",
              "    0% {\n",
              "      border-color: transparent;\n",
              "      border-bottom-color: var(--fill-color);\n",
              "      border-left-color: var(--fill-color);\n",
              "    }\n",
              "    20% {\n",
              "      border-color: transparent;\n",
              "      border-left-color: var(--fill-color);\n",
              "      border-top-color: var(--fill-color);\n",
              "    }\n",
              "    30% {\n",
              "      border-color: transparent;\n",
              "      border-left-color: var(--fill-color);\n",
              "      border-top-color: var(--fill-color);\n",
              "      border-right-color: var(--fill-color);\n",
              "    }\n",
              "    40% {\n",
              "      border-color: transparent;\n",
              "      border-right-color: var(--fill-color);\n",
              "      border-top-color: var(--fill-color);\n",
              "    }\n",
              "    60% {\n",
              "      border-color: transparent;\n",
              "      border-right-color: var(--fill-color);\n",
              "    }\n",
              "    80% {\n",
              "      border-color: transparent;\n",
              "      border-right-color: var(--fill-color);\n",
              "      border-bottom-color: var(--fill-color);\n",
              "    }\n",
              "    90% {\n",
              "      border-color: transparent;\n",
              "      border-bottom-color: var(--fill-color);\n",
              "    }\n",
              "  }\n",
              "</style>\n",
              "\n",
              "  <script>\n",
              "    async function quickchart(key) {\n",
              "      const quickchartButtonEl =\n",
              "        document.querySelector('#' + key + ' button');\n",
              "      quickchartButtonEl.disabled = true;  // To prevent multiple clicks.\n",
              "      quickchartButtonEl.classList.add('colab-df-spinner');\n",
              "      try {\n",
              "        const charts = await google.colab.kernel.invokeFunction(\n",
              "            'suggestCharts', [key], {});\n",
              "      } catch (error) {\n",
              "        console.error('Error during call to suggestCharts:', error);\n",
              "      }\n",
              "      quickchartButtonEl.classList.remove('colab-df-spinner');\n",
              "      quickchartButtonEl.classList.add('colab-df-quickchart-complete');\n",
              "    }\n",
              "    (() => {\n",
              "      let quickchartButtonEl =\n",
              "        document.querySelector('#df-12bf584c-baa9-4b9d-a411-9a94864a4981 button');\n",
              "      quickchartButtonEl.style.display =\n",
              "        google.colab.kernel.accessAllowed ? 'block' : 'none';\n",
              "    })();\n",
              "  </script>\n",
              "</div>\n",
              "    </div>\n",
              "  </div>\n"
            ],
            "application/vnd.google.colaboratory.intrinsic+json": {
              "type": "dataframe",
              "variable_name": "df",
              "summary": "{\n  \"name\": \"df\",\n  \"rows\": 4,\n  \"fields\": [\n    {\n      \"column\": \"Subject\",\n      \"properties\": {\n        \"dtype\": \"string\",\n        \"num_unique_values\": 2,\n        \"samples\": [\n          \"Kristin\",\n          \"Erik\"\n        ],\n        \"semantic_type\": \"\",\n        \"description\": \"\"\n      }\n    },\n    {\n      \"column\": \"Session\",\n      \"properties\": {\n        \"dtype\": \"number\",\n        \"std\": 0,\n        \"min\": 1,\n        \"max\": 2,\n        \"num_unique_values\": 2,\n        \"samples\": [\n          2,\n          1\n        ],\n        \"semantic_type\": \"\",\n        \"description\": \"\"\n      }\n    },\n    {\n      \"column\": \"RANL ACC 1\",\n      \"properties\": {\n        \"dtype\": \"number\",\n        \"std\": 0,\n        \"min\": 0,\n        \"max\": 2,\n        \"num_unique_values\": 3,\n        \"samples\": [\n          0,\n          1\n        ],\n        \"semantic_type\": \"\",\n        \"description\": \"\"\n      }\n    },\n    {\n      \"column\": \"RANL ACC 2\",\n      \"properties\": {\n        \"dtype\": \"number\",\n        \"std\": 0,\n        \"min\": 0,\n        \"max\": 1,\n        \"num_unique_values\": 2,\n        \"samples\": [\n          1,\n          0\n        ],\n        \"semantic_type\": \"\",\n        \"description\": \"\"\n      }\n    },\n    {\n      \"column\": \"RANL RT 1\",\n      \"properties\": {\n        \"dtype\": \"number\",\n        \"std\": 1,\n        \"min\": 18,\n        \"max\": 21,\n        \"num_unique_values\": 3,\n        \"samples\": [\n          18,\n          21\n        ],\n        \"semantic_type\": \"\",\n        \"description\": \"\"\n      }\n    },\n    {\n      \"column\": \"RANL RT 2\",\n      \"properties\": {\n        \"dtype\": \"number\",\n        \"std\": 3,\n        \"min\": 17,\n        \"max\": 25,\n        \"num_unique_values\": 4,\n        \"samples\": [\n          20,\n          18\n        ],\n        \"semantic_type\": \"\",\n        \"description\": \"\"\n      }\n    },\n    {\n      \"column\": \"RANN ACC 1\",\n      \"properties\": {\n        \"dtype\": \"number\",\n        \"std\": 0,\n        \"min\": 0,\n        \"max\": 2,\n        \"num_unique_values\": 3,\n        \"samples\": [\n          1,\n          0\n        ],\n        \"semantic_type\": \"\",\n        \"description\": \"\"\n      }\n    },\n    {\n      \"column\": \"RANN ACC 2\",\n      \"properties\": {\n        \"dtype\": \"number\",\n        \"std\": 0,\n        \"min\": 0,\n        \"max\": 0,\n        \"num_unique_values\": 1,\n        \"samples\": [\n          0\n        ],\n        \"semantic_type\": \"\",\n        \"description\": \"\"\n      }\n    },\n    {\n      \"column\": \"RANN RT 1\",\n      \"properties\": {\n        \"dtype\": \"number\",\n        \"std\": 3,\n        \"min\": 15,\n        \"max\": 22,\n        \"num_unique_values\": 4,\n        \"samples\": [\n          17\n        ],\n        \"semantic_type\": \"\",\n        \"description\": \"\"\n      }\n    },\n    {\n      \"column\": \"RANN RT 2\",\n      \"properties\": {\n        \"dtype\": \"number\",\n        \"std\": 3,\n        \"min\": 13,\n        \"max\": 21,\n        \"num_unique_values\": 4,\n        \"samples\": [\n          18\n        ],\n        \"semantic_type\": \"\",\n        \"description\": \"\"\n      }\n    },\n    {\n      \"column\": \"AccL\",\n      \"properties\": {\n        \"dtype\": \"number\",\n        \"std\": 1.5,\n        \"min\": 97.0,\n        \"max\": 100.0,\n        \"num_unique_values\": 3,\n        \"samples\": [\n          100.0\n        ],\n        \"semantic_type\": \"\",\n        \"description\": \"\"\n      }\n    },\n    {\n      \"column\": \"AccN\",\n      \"properties\": {\n        \"dtype\": \"number\",\n        \"std\": 0.9574271077563381,\n        \"min\": 98.0,\n        \"max\": 100.0,\n        \"num_unique_values\": 3,\n        \"samples\": [\n          99.0\n        ],\n        \"semantic_type\": \"\",\n        \"description\": \"\"\n      }\n    },\n    {\n      \"column\": \"RT L\",\n      \"properties\": {\n        \"dtype\": \"number\",\n        \"std\": 2.4281337140555777,\n        \"min\": 17.5,\n        \"max\": 23.0,\n        \"num_unique_values\": 4,\n        \"samples\": [\n          20.5\n        ],\n        \"semantic_type\": \"\",\n        \"description\": \"\"\n      }\n    },\n    {\n      \"column\": \"RT N\",\n      \"properties\": {\n        \"dtype\": \"number\",\n        \"std\": 3.304037933599835,\n        \"min\": 15.0,\n        \"max\": 22.0,\n        \"num_unique_values\": 4,\n        \"samples\": [\n          17.0\n        ],\n        \"semantic_type\": \"\",\n        \"description\": \"\"\n      }\n    },\n    {\n      \"column\": \"Genauigkeit\",\n      \"properties\": {\n        \"dtype\": \"number\",\n        \"std\": 1.1902380714238083,\n        \"min\": 97.5,\n        \"max\": 100.0,\n        \"num_unique_values\": 4,\n        \"samples\": [\n          100.0\n        ],\n        \"semantic_type\": \"\",\n        \"description\": \"\"\n      }\n    },\n    {\n      \"column\": \"Reaktionszeit\",\n      \"properties\": {\n        \"dtype\": \"number\",\n        \"std\": 2.58501289487435,\n        \"min\": 16.25,\n        \"max\": 22.5,\n        \"num_unique_values\": 4,\n        \"samples\": [\n          18.75\n        ],\n        \"semantic_type\": \"\",\n        \"description\": \"\"\n      }\n    }\n  ]\n}"
            }
          },
          "metadata": {},
          "execution_count": 13
        }
      ]
    },
    {
      "cell_type": "code",
      "source": [
        "df[['Subject', 'Session', 'AccL', 'AccN', 'RT L', 'RT N', 'Genauigkeit', 'Reaktionszeit']]"
      ],
      "metadata": {
        "colab": {
          "base_uri": "https://localhost:8080/",
          "height": 175
        },
        "id": "XrbvhyJFqQel",
        "outputId": "595612ea-67b4-4949-f11c-f199d0bc46ab"
      },
      "execution_count": 14,
      "outputs": [
        {
          "output_type": "execute_result",
          "data": {
            "text/plain": [
              "   Subject  Session   AccL   AccN  RT L  RT N  Genauigkeit  Reaktionszeit\n",
              "0     Erik        1  100.0   99.0  17.5  15.0         99.5          16.25\n",
              "1     Erik        2  100.0  100.0  20.5  17.0        100.0          18.75\n",
              "2  Kristin        1   98.0   98.0  23.0  22.0         98.0          22.50\n",
              "3  Kristin        2   97.0   98.0  18.5  21.0         97.5          19.75"
            ],
            "text/html": [
              "\n",
              "  <div id=\"df-0679f7ed-212f-4568-b9d9-ac1046812bf8\" class=\"colab-df-container\">\n",
              "    <div>\n",
              "<style scoped>\n",
              "    .dataframe tbody tr th:only-of-type {\n",
              "        vertical-align: middle;\n",
              "    }\n",
              "\n",
              "    .dataframe tbody tr th {\n",
              "        vertical-align: top;\n",
              "    }\n",
              "\n",
              "    .dataframe thead th {\n",
              "        text-align: right;\n",
              "    }\n",
              "</style>\n",
              "<table border=\"1\" class=\"dataframe\">\n",
              "  <thead>\n",
              "    <tr style=\"text-align: right;\">\n",
              "      <th></th>\n",
              "      <th>Subject</th>\n",
              "      <th>Session</th>\n",
              "      <th>AccL</th>\n",
              "      <th>AccN</th>\n",
              "      <th>RT L</th>\n",
              "      <th>RT N</th>\n",
              "      <th>Genauigkeit</th>\n",
              "      <th>Reaktionszeit</th>\n",
              "    </tr>\n",
              "  </thead>\n",
              "  <tbody>\n",
              "    <tr>\n",
              "      <th>0</th>\n",
              "      <td>Erik</td>\n",
              "      <td>1</td>\n",
              "      <td>100.0</td>\n",
              "      <td>99.0</td>\n",
              "      <td>17.5</td>\n",
              "      <td>15.0</td>\n",
              "      <td>99.5</td>\n",
              "      <td>16.25</td>\n",
              "    </tr>\n",
              "    <tr>\n",
              "      <th>1</th>\n",
              "      <td>Erik</td>\n",
              "      <td>2</td>\n",
              "      <td>100.0</td>\n",
              "      <td>100.0</td>\n",
              "      <td>20.5</td>\n",
              "      <td>17.0</td>\n",
              "      <td>100.0</td>\n",
              "      <td>18.75</td>\n",
              "    </tr>\n",
              "    <tr>\n",
              "      <th>2</th>\n",
              "      <td>Kristin</td>\n",
              "      <td>1</td>\n",
              "      <td>98.0</td>\n",
              "      <td>98.0</td>\n",
              "      <td>23.0</td>\n",
              "      <td>22.0</td>\n",
              "      <td>98.0</td>\n",
              "      <td>22.50</td>\n",
              "    </tr>\n",
              "    <tr>\n",
              "      <th>3</th>\n",
              "      <td>Kristin</td>\n",
              "      <td>2</td>\n",
              "      <td>97.0</td>\n",
              "      <td>98.0</td>\n",
              "      <td>18.5</td>\n",
              "      <td>21.0</td>\n",
              "      <td>97.5</td>\n",
              "      <td>19.75</td>\n",
              "    </tr>\n",
              "  </tbody>\n",
              "</table>\n",
              "</div>\n",
              "    <div class=\"colab-df-buttons\">\n",
              "\n",
              "  <div class=\"colab-df-container\">\n",
              "    <button class=\"colab-df-convert\" onclick=\"convertToInteractive('df-0679f7ed-212f-4568-b9d9-ac1046812bf8')\"\n",
              "            title=\"Convert this dataframe to an interactive table.\"\n",
              "            style=\"display:none;\">\n",
              "\n",
              "  <svg xmlns=\"http://www.w3.org/2000/svg\" height=\"24px\" viewBox=\"0 -960 960 960\">\n",
              "    <path d=\"M120-120v-720h720v720H120Zm60-500h600v-160H180v160Zm220 220h160v-160H400v160Zm0 220h160v-160H400v160ZM180-400h160v-160H180v160Zm440 0h160v-160H620v160ZM180-180h160v-160H180v160Zm440 0h160v-160H620v160Z\"/>\n",
              "  </svg>\n",
              "    </button>\n",
              "\n",
              "  <style>\n",
              "    .colab-df-container {\n",
              "      display:flex;\n",
              "      gap: 12px;\n",
              "    }\n",
              "\n",
              "    .colab-df-convert {\n",
              "      background-color: #E8F0FE;\n",
              "      border: none;\n",
              "      border-radius: 50%;\n",
              "      cursor: pointer;\n",
              "      display: none;\n",
              "      fill: #1967D2;\n",
              "      height: 32px;\n",
              "      padding: 0 0 0 0;\n",
              "      width: 32px;\n",
              "    }\n",
              "\n",
              "    .colab-df-convert:hover {\n",
              "      background-color: #E2EBFA;\n",
              "      box-shadow: 0px 1px 2px rgba(60, 64, 67, 0.3), 0px 1px 3px 1px rgba(60, 64, 67, 0.15);\n",
              "      fill: #174EA6;\n",
              "    }\n",
              "\n",
              "    .colab-df-buttons div {\n",
              "      margin-bottom: 4px;\n",
              "    }\n",
              "\n",
              "    [theme=dark] .colab-df-convert {\n",
              "      background-color: #3B4455;\n",
              "      fill: #D2E3FC;\n",
              "    }\n",
              "\n",
              "    [theme=dark] .colab-df-convert:hover {\n",
              "      background-color: #434B5C;\n",
              "      box-shadow: 0px 1px 3px 1px rgba(0, 0, 0, 0.15);\n",
              "      filter: drop-shadow(0px 1px 2px rgba(0, 0, 0, 0.3));\n",
              "      fill: #FFFFFF;\n",
              "    }\n",
              "  </style>\n",
              "\n",
              "    <script>\n",
              "      const buttonEl =\n",
              "        document.querySelector('#df-0679f7ed-212f-4568-b9d9-ac1046812bf8 button.colab-df-convert');\n",
              "      buttonEl.style.display =\n",
              "        google.colab.kernel.accessAllowed ? 'block' : 'none';\n",
              "\n",
              "      async function convertToInteractive(key) {\n",
              "        const element = document.querySelector('#df-0679f7ed-212f-4568-b9d9-ac1046812bf8');\n",
              "        const dataTable =\n",
              "          await google.colab.kernel.invokeFunction('convertToInteractive',\n",
              "                                                    [key], {});\n",
              "        if (!dataTable) return;\n",
              "\n",
              "        const docLinkHtml = 'Like what you see? Visit the ' +\n",
              "          '<a target=\"_blank\" href=https://colab.research.google.com/notebooks/data_table.ipynb>data table notebook</a>'\n",
              "          + ' to learn more about interactive tables.';\n",
              "        element.innerHTML = '';\n",
              "        dataTable['output_type'] = 'display_data';\n",
              "        await google.colab.output.renderOutput(dataTable, element);\n",
              "        const docLink = document.createElement('div');\n",
              "        docLink.innerHTML = docLinkHtml;\n",
              "        element.appendChild(docLink);\n",
              "      }\n",
              "    </script>\n",
              "  </div>\n",
              "\n",
              "\n",
              "<div id=\"df-1373b44d-f42e-46d1-bf74-39b6dd1803db\">\n",
              "  <button class=\"colab-df-quickchart\" onclick=\"quickchart('df-1373b44d-f42e-46d1-bf74-39b6dd1803db')\"\n",
              "            title=\"Suggest charts\"\n",
              "            style=\"display:none;\">\n",
              "\n",
              "<svg xmlns=\"http://www.w3.org/2000/svg\" height=\"24px\"viewBox=\"0 0 24 24\"\n",
              "     width=\"24px\">\n",
              "    <g>\n",
              "        <path d=\"M19 3H5c-1.1 0-2 .9-2 2v14c0 1.1.9 2 2 2h14c1.1 0 2-.9 2-2V5c0-1.1-.9-2-2-2zM9 17H7v-7h2v7zm4 0h-2V7h2v10zm4 0h-2v-4h2v4z\"/>\n",
              "    </g>\n",
              "</svg>\n",
              "  </button>\n",
              "\n",
              "<style>\n",
              "  .colab-df-quickchart {\n",
              "      --bg-color: #E8F0FE;\n",
              "      --fill-color: #1967D2;\n",
              "      --hover-bg-color: #E2EBFA;\n",
              "      --hover-fill-color: #174EA6;\n",
              "      --disabled-fill-color: #AAA;\n",
              "      --disabled-bg-color: #DDD;\n",
              "  }\n",
              "\n",
              "  [theme=dark] .colab-df-quickchart {\n",
              "      --bg-color: #3B4455;\n",
              "      --fill-color: #D2E3FC;\n",
              "      --hover-bg-color: #434B5C;\n",
              "      --hover-fill-color: #FFFFFF;\n",
              "      --disabled-bg-color: #3B4455;\n",
              "      --disabled-fill-color: #666;\n",
              "  }\n",
              "\n",
              "  .colab-df-quickchart {\n",
              "    background-color: var(--bg-color);\n",
              "    border: none;\n",
              "    border-radius: 50%;\n",
              "    cursor: pointer;\n",
              "    display: none;\n",
              "    fill: var(--fill-color);\n",
              "    height: 32px;\n",
              "    padding: 0;\n",
              "    width: 32px;\n",
              "  }\n",
              "\n",
              "  .colab-df-quickchart:hover {\n",
              "    background-color: var(--hover-bg-color);\n",
              "    box-shadow: 0 1px 2px rgba(60, 64, 67, 0.3), 0 1px 3px 1px rgba(60, 64, 67, 0.15);\n",
              "    fill: var(--button-hover-fill-color);\n",
              "  }\n",
              "\n",
              "  .colab-df-quickchart-complete:disabled,\n",
              "  .colab-df-quickchart-complete:disabled:hover {\n",
              "    background-color: var(--disabled-bg-color);\n",
              "    fill: var(--disabled-fill-color);\n",
              "    box-shadow: none;\n",
              "  }\n",
              "\n",
              "  .colab-df-spinner {\n",
              "    border: 2px solid var(--fill-color);\n",
              "    border-color: transparent;\n",
              "    border-bottom-color: var(--fill-color);\n",
              "    animation:\n",
              "      spin 1s steps(1) infinite;\n",
              "  }\n",
              "\n",
              "  @keyframes spin {\n",
              "    0% {\n",
              "      border-color: transparent;\n",
              "      border-bottom-color: var(--fill-color);\n",
              "      border-left-color: var(--fill-color);\n",
              "    }\n",
              "    20% {\n",
              "      border-color: transparent;\n",
              "      border-left-color: var(--fill-color);\n",
              "      border-top-color: var(--fill-color);\n",
              "    }\n",
              "    30% {\n",
              "      border-color: transparent;\n",
              "      border-left-color: var(--fill-color);\n",
              "      border-top-color: var(--fill-color);\n",
              "      border-right-color: var(--fill-color);\n",
              "    }\n",
              "    40% {\n",
              "      border-color: transparent;\n",
              "      border-right-color: var(--fill-color);\n",
              "      border-top-color: var(--fill-color);\n",
              "    }\n",
              "    60% {\n",
              "      border-color: transparent;\n",
              "      border-right-color: var(--fill-color);\n",
              "    }\n",
              "    80% {\n",
              "      border-color: transparent;\n",
              "      border-right-color: var(--fill-color);\n",
              "      border-bottom-color: var(--fill-color);\n",
              "    }\n",
              "    90% {\n",
              "      border-color: transparent;\n",
              "      border-bottom-color: var(--fill-color);\n",
              "    }\n",
              "  }\n",
              "</style>\n",
              "\n",
              "  <script>\n",
              "    async function quickchart(key) {\n",
              "      const quickchartButtonEl =\n",
              "        document.querySelector('#' + key + ' button');\n",
              "      quickchartButtonEl.disabled = true;  // To prevent multiple clicks.\n",
              "      quickchartButtonEl.classList.add('colab-df-spinner');\n",
              "      try {\n",
              "        const charts = await google.colab.kernel.invokeFunction(\n",
              "            'suggestCharts', [key], {});\n",
              "      } catch (error) {\n",
              "        console.error('Error during call to suggestCharts:', error);\n",
              "      }\n",
              "      quickchartButtonEl.classList.remove('colab-df-spinner');\n",
              "      quickchartButtonEl.classList.add('colab-df-quickchart-complete');\n",
              "    }\n",
              "    (() => {\n",
              "      let quickchartButtonEl =\n",
              "        document.querySelector('#df-1373b44d-f42e-46d1-bf74-39b6dd1803db button');\n",
              "      quickchartButtonEl.style.display =\n",
              "        google.colab.kernel.accessAllowed ? 'block' : 'none';\n",
              "    })();\n",
              "  </script>\n",
              "</div>\n",
              "    </div>\n",
              "  </div>\n"
            ],
            "application/vnd.google.colaboratory.intrinsic+json": {
              "type": "dataframe",
              "summary": "{\n  \"name\": \"df[['Subject', 'Session', 'AccL', 'AccN', 'RT L', 'RT N', 'Genauigkeit', 'Reaktionszeit']]\",\n  \"rows\": 4,\n  \"fields\": [\n    {\n      \"column\": \"Subject\",\n      \"properties\": {\n        \"dtype\": \"string\",\n        \"num_unique_values\": 2,\n        \"samples\": [\n          \"Kristin\",\n          \"Erik\"\n        ],\n        \"semantic_type\": \"\",\n        \"description\": \"\"\n      }\n    },\n    {\n      \"column\": \"Session\",\n      \"properties\": {\n        \"dtype\": \"number\",\n        \"std\": 0,\n        \"min\": 1,\n        \"max\": 2,\n        \"num_unique_values\": 2,\n        \"samples\": [\n          2,\n          1\n        ],\n        \"semantic_type\": \"\",\n        \"description\": \"\"\n      }\n    },\n    {\n      \"column\": \"AccL\",\n      \"properties\": {\n        \"dtype\": \"number\",\n        \"std\": 1.5,\n        \"min\": 97.0,\n        \"max\": 100.0,\n        \"num_unique_values\": 3,\n        \"samples\": [\n          100.0,\n          98.0\n        ],\n        \"semantic_type\": \"\",\n        \"description\": \"\"\n      }\n    },\n    {\n      \"column\": \"AccN\",\n      \"properties\": {\n        \"dtype\": \"number\",\n        \"std\": 0.9574271077563381,\n        \"min\": 98.0,\n        \"max\": 100.0,\n        \"num_unique_values\": 3,\n        \"samples\": [\n          99.0,\n          100.0\n        ],\n        \"semantic_type\": \"\",\n        \"description\": \"\"\n      }\n    },\n    {\n      \"column\": \"RT L\",\n      \"properties\": {\n        \"dtype\": \"number\",\n        \"std\": 2.4281337140555777,\n        \"min\": 17.5,\n        \"max\": 23.0,\n        \"num_unique_values\": 4,\n        \"samples\": [\n          20.5,\n          18.5\n        ],\n        \"semantic_type\": \"\",\n        \"description\": \"\"\n      }\n    },\n    {\n      \"column\": \"RT N\",\n      \"properties\": {\n        \"dtype\": \"number\",\n        \"std\": 3.304037933599835,\n        \"min\": 15.0,\n        \"max\": 22.0,\n        \"num_unique_values\": 4,\n        \"samples\": [\n          17.0,\n          21.0\n        ],\n        \"semantic_type\": \"\",\n        \"description\": \"\"\n      }\n    },\n    {\n      \"column\": \"Genauigkeit\",\n      \"properties\": {\n        \"dtype\": \"number\",\n        \"std\": 1.1902380714238083,\n        \"min\": 97.5,\n        \"max\": 100.0,\n        \"num_unique_values\": 4,\n        \"samples\": [\n          100.0,\n          97.5\n        ],\n        \"semantic_type\": \"\",\n        \"description\": \"\"\n      }\n    },\n    {\n      \"column\": \"Reaktionszeit\",\n      \"properties\": {\n        \"dtype\": \"number\",\n        \"std\": 2.58501289487435,\n        \"min\": 16.25,\n        \"max\": 22.5,\n        \"num_unique_values\": 4,\n        \"samples\": [\n          18.75,\n          19.75\n        ],\n        \"semantic_type\": \"\",\n        \"description\": \"\"\n      }\n    }\n  ]\n}"
            }
          },
          "metadata": {},
          "execution_count": 14
        }
      ]
    },
    {
      "cell_type": "code",
      "source": [
        "create_plots(df, 'Genauigkeit', 'Genauigkeit bei RAN-Buchstaben und -Zahlen (in %)')\n",
        "create_plots(df, 'Reaktionszeit', 'Reaktionszeit bei RAN-Buchstaben und -Zahlen (in sec)')"
      ],
      "metadata": {
        "colab": {
          "base_uri": "https://localhost:8080/",
          "height": 785
        },
        "id": "nFZNX2EnEvhW",
        "outputId": "74819c98-e992-42cc-ab83-bd8614b3b5a6"
      },
      "execution_count": 15,
      "outputs": [
        {
          "output_type": "display_data",
          "data": {
            "text/plain": [
              "<Figure size 400x400 with 1 Axes>"
            ],
            "image/png": "[encoded data removed]"
          },
          "metadata": {}
        },
        {
          "output_type": "display_data",
          "data": {
            "text/plain": [
              "<Figure size 400x400 with 1 Axes>"
            ],
            "image/png": "[encoded data removed]"
          },
          "metadata": {}
        }
      ]
    },
    {
      "cell_type": "markdown",
      "source": [
        "## Spoonerism"
      ],
      "metadata": {
        "id": "u-k_nq7IFtzF"
      }
    },
    {
      "cell_type": "markdown",
      "source": [
        "For spoonerism, we have 20 trials with a slide of instruction in between. instruction slides - 10 with nouns - instrcution - 10 with verbs - end slide"
      ],
      "metadata": {
        "id": "efWRLDV2JuLD"
      }
    },
    {
      "cell_type": "code",
      "source": [
        "# change the names of the files according to the format\n",
        "# \"Erik_stimulation.log\", \"Erik_sham.log\"\n",
        "# \"Kristin_stimulation.log\", \"Kristin_sham.log\"\n",
        "file_names = [\n",
        "    \"Erik_stimulation.log\", \"Erik_sham.log\",\n",
        "    \"Kristin_stimulation.log\", \"Kristin_sham.log\"\n",
        "]"
      ],
      "metadata": {
        "id": "N2BdaYXNHqel"
      },
      "execution_count": 16,
      "outputs": []
    },
    {
      "cell_type": "code",
      "source": [
        "# for reaction time\n",
        "# session 1 = stimulation, session 2 = sham\n",
        "all_data = pd.DataFrame()\n",
        "for name in file_names:\n",
        "  data = pd.read_csv(\n",
        "        working_path.joinpath(name),\n",
        "        delimiter='\\t', skiprows=1, encoding='utf-8', on_bad_lines='skip')\n",
        "  df = data.reset_index()\n",
        "  df.columns = df.iloc[0]\n",
        "  df = df.drop(0)\n",
        "  df = df[['Subject', 'Trial', 'Time', 'TTime']]\n",
        "  df = df.drop([1, 2, 3, 4, 5, 6, 7, 18, 29, 30], axis = 0) # recheck in the task!!!!\n",
        "  if 'stimulation' in name:\n",
        "    df['Session'] = 1\n",
        "  elif 'sham' in name:\n",
        "    df['Session'] = 2\n",
        "  all_data = pd.concat([all_data, df])"
      ],
      "metadata": {
        "id": "wZ2mnXYIQenh"
      },
      "execution_count": 17,
      "outputs": []
    },
    {
      "cell_type": "code",
      "source": [
        "all_data = all_data.rename({'TTime':'Reaktionszeit'}, axis=1)\n",
        "all_data['Reaktionszeit'] = all_data['Reaktionszeit'].astype(int)"
      ],
      "metadata": {
        "id": "ZuhnO1tsbn4s"
      },
      "execution_count": 18,
      "outputs": []
    },
    {
      "cell_type": "code",
      "source": [
        "# simulation\n",
        "subject1 = ['Erik'] * 40\n",
        "subject2 = ['Kristin'] * 40\n",
        "subject = subject1 + subject2"
      ],
      "metadata": {
        "id": "imeI41nWZIkr"
      },
      "execution_count": 19,
      "outputs": []
    },
    {
      "cell_type": "code",
      "source": [
        "all_data['Subject'] = subject"
      ],
      "metadata": {
        "id": "I9i507F_Ze2J"
      },
      "execution_count": 20,
      "outputs": []
    },
    {
      "cell_type": "code",
      "source": [
        "# adding the accuracy results in the spoonerism task\n",
        "erik_stim = [1] * 20\n",
        "erik_sham = [1] * 20\n",
        "kris_stim = [1] * 19 + [0]\n",
        "kris_sham = [1] * 18 + [0] * 2\n",
        "accuracy = erik_stim + erik_sham + kris_stim + kris_sham # exactly in this order"
      ],
      "metadata": {
        "id": "YnNTXY3riQAC"
      },
      "execution_count": 21,
      "outputs": []
    },
    {
      "cell_type": "code",
      "source": [
        "all_data['Genauigkeit'] = accuracy"
      ],
      "metadata": {
        "id": "ZS3rFS3Mcnzu"
      },
      "execution_count": 22,
      "outputs": []
    },
    {
      "cell_type": "code",
      "source": [
        "create_plots(all_data, 'Genauigkeit', 'Genauigkeit bei Spoonerism (in %)')\n",
        "create_plots(all_data, 'Reaktionszeit', 'Reaktionszeit bei Spoonerism (in Zeiteinheiten)')"
      ],
      "metadata": {
        "colab": {
          "base_uri": "https://localhost:8080/",
          "height": 785
        },
        "id": "SZP8zsQMgVRm",
        "outputId": "9dba66b6-4649-438b-91e4-97adfd76766d"
      },
      "execution_count": 23,
      "outputs": [
        {
          "output_type": "display_data",
          "data": {
            "text/plain": [
              "<Figure size 400x400 with 1 Axes>"
            ],
            "image/png": "[encoded data removed]"
          },
          "metadata": {}
        },
        {
          "output_type": "display_data",
          "data": {
            "text/plain": [
              "<Figure size 400x400 with 1 Axes>"
            ],
            "image/png": "[encoded data removed]"
          },
          "metadata": {}
        }
      ]
    },
    {
      "cell_type": "markdown",
      "source": [
        "## Motion perception"
      ],
      "metadata": {
        "id": "PQixOthbVlFI"
      }
    },
    {
      "cell_type": "markdown",
      "source": [
        "We usually have 3-4 or more files for motion perception because we restarting it several times. The first short one is always practice. One could ignore it."
      ],
      "metadata": {
        "id": "gjhgMhjNYL0i"
      }
    },
    {
      "cell_type": "code",
      "source": [
        "!ls /content/drive/MyDrive/KKNV/data/tv/motion"
      ],
      "metadata": {
        "colab": {
          "base_uri": "https://localhost:8080/"
        },
        "id": "Vyw0A_utVoz0",
        "outputId": "f4f1b98d-dad5-4c4e-a117-4fe82ace638f"
      },
      "execution_count": 24,
      "outputs": [
        {
          "output_type": "stream",
          "name": "stdout",
          "text": [
            "Erik_sham_left.csv   Erik_stim_left.csv   Kris_sham_left.csv   Kris_stim_left.csv\n",
            "Erik_sham_right.csv  Erik_stim_right.csv  Kris_sham_right.csv  Kris_stim_right.csv\n"
          ]
        }
      ]
    },
    {
      "cell_type": "markdown",
      "source": [
        "We have three files that one might use: base report, staircase left and right. We can build staircases for two hemifields."
      ],
      "metadata": {
        "id": "YAeh8Ka1jLqY"
      }
    },
    {
      "cell_type": "code",
      "source": [
        "working_path = Path('/content/drive/MyDrive/KKNV/data/tv/motion/')"
      ],
      "metadata": {
        "id": "B98HBWDTjqTc"
      },
      "execution_count": 25,
      "outputs": []
    },
    {
      "cell_type": "code",
      "source": [
        "def inspect_file(file_path, num_lines=20):\n",
        "    with open(file_path, 'r', encoding='utf-8') as f:\n",
        "        for i in range(num_lines):\n",
        "            print(f\"{i}: {f.readline()}\")"
      ],
      "metadata": {
        "id": "ZOyGKo75hyEZ"
      },
      "execution_count": 26,
      "outputs": []
    },
    {
      "cell_type": "code",
      "source": [
        "# Inspect the first few lines of the file\n",
        "file_path = working_path.joinpath('StaircaseValuesR.csv')\n",
        "inspect_file(file_path)"
      ],
      "metadata": {
        "id": "xQhSfV3wiG-I",
        "outputId": "c3d3d2ba-6f05-4c01-8478-2eea92bb38a4",
        "colab": {
          "base_uri": "https://localhost:8080/",
          "height": 280
        }
      },
      "execution_count": 27,
      "outputs": [
        {
          "output_type": "error",
          "ename": "FileNotFoundError",
          "evalue": "[Errno 2] No such file or directory: '/content/drive/MyDrive/KKNV/data/tv/motion/StaircaseValuesR.csv'",
          "traceback": [
            "\u001b[0;31m---------------------------------------------------------------------------\u001b[0m",
            "\u001b[0;31mFileNotFoundError\u001b[0m                         Traceback (most recent call last)",
            "\u001b[0;32m<ipython-input-27-5953ee2c49ac>\u001b[0m in \u001b[0;36m<cell line: 3>\u001b[0;34m()\u001b[0m\n\u001b[1;32m      1\u001b[0m \u001b[0;31m# Inspect the first few lines of the file\u001b[0m\u001b[0;34m\u001b[0m\u001b[0;34m\u001b[0m\u001b[0m\n\u001b[1;32m      2\u001b[0m \u001b[0mfile_path\u001b[0m \u001b[0;34m=\u001b[0m \u001b[0mworking_path\u001b[0m\u001b[0;34m.\u001b[0m\u001b[0mjoinpath\u001b[0m\u001b[0;34m(\u001b[0m\u001b[0;34m'StaircaseValuesR.csv'\u001b[0m\u001b[0;34m)\u001b[0m\u001b[0;34m\u001b[0m\u001b[0;34m\u001b[0m\u001b[0m\n\u001b[0;32m----> 3\u001b[0;31m \u001b[0minspect_file\u001b[0m\u001b[0;34m(\u001b[0m\u001b[0mfile_path\u001b[0m\u001b[0;34m)\u001b[0m\u001b[0;34m\u001b[0m\u001b[0;34m\u001b[0m\u001b[0m\n\u001b[0m",
            "\u001b[0;32m<ipython-input-26-90ad6f0ebfbd>\u001b[0m in \u001b[0;36minspect_file\u001b[0;34m(file_path, num_lines)\u001b[0m\n\u001b[1;32m      1\u001b[0m \u001b[0;32mdef\u001b[0m \u001b[0minspect_file\u001b[0m\u001b[0;34m(\u001b[0m\u001b[0mfile_path\u001b[0m\u001b[0;34m,\u001b[0m \u001b[0mnum_lines\u001b[0m\u001b[0;34m=\u001b[0m\u001b[0;36m20\u001b[0m\u001b[0;34m)\u001b[0m\u001b[0;34m:\u001b[0m\u001b[0;34m\u001b[0m\u001b[0;34m\u001b[0m\u001b[0m\n\u001b[0;32m----> 2\u001b[0;31m     \u001b[0;32mwith\u001b[0m \u001b[0mopen\u001b[0m\u001b[0;34m(\u001b[0m\u001b[0mfile_path\u001b[0m\u001b[0;34m,\u001b[0m \u001b[0;34m'r'\u001b[0m\u001b[0;34m,\u001b[0m \u001b[0mencoding\u001b[0m\u001b[0;34m=\u001b[0m\u001b[0;34m'utf-8'\u001b[0m\u001b[0;34m)\u001b[0m \u001b[0;32mas\u001b[0m \u001b[0mf\u001b[0m\u001b[0;34m:\u001b[0m\u001b[0;34m\u001b[0m\u001b[0;34m\u001b[0m\u001b[0m\n\u001b[0m\u001b[1;32m      3\u001b[0m         \u001b[0;32mfor\u001b[0m \u001b[0mi\u001b[0m \u001b[0;32min\u001b[0m \u001b[0mrange\u001b[0m\u001b[0;34m(\u001b[0m\u001b[0mnum_lines\u001b[0m\u001b[0;34m)\u001b[0m\u001b[0;34m:\u001b[0m\u001b[0;34m\u001b[0m\u001b[0;34m\u001b[0m\u001b[0m\n\u001b[1;32m      4\u001b[0m             \u001b[0mprint\u001b[0m\u001b[0;34m(\u001b[0m\u001b[0;34mf\"{i}: {f.readline()}\"\u001b[0m\u001b[0;34m)\u001b[0m\u001b[0;34m\u001b[0m\u001b[0;34m\u001b[0m\u001b[0m\n",
            "\u001b[0;31mFileNotFoundError\u001b[0m: [Errno 2] No such file or directory: '/content/drive/MyDrive/KKNV/data/tv/motion/StaircaseValuesR.csv'"
          ]
        }
      ]
    },
    {
      "cell_type": "markdown",
      "source": [
        "So imagine, we have sets of data from Erik sham and stim and Kristin sham and stim. Also the information comes from different visual fields"
      ],
      "metadata": {
        "id": "Rm54Gr77Mkuf"
      }
    },
    {
      "cell_type": "code",
      "source": [
        "def read_staircase(file_path):\n",
        "    # Initialize dictionaries to store different sections\n",
        "    metadata = {}\n",
        "    reversal_list = []\n",
        "    response_data = None\n",
        "\n",
        "    with open(file_path, 'r', encoding='utf-8') as f:\n",
        "        lines = f.readlines()\n",
        "\n",
        "    # Extract metadata\n",
        "    metadata_row = lines[0].strip().split(',')\n",
        "    metadata_values = lines[1].strip().split(',')\n",
        "    metadata = dict(zip(metadata_row, metadata_values))\n",
        "\n",
        "    # Find the start indices for each section\n",
        "    reversal_start_idx = lines.index('Reversal List\\n') + 1\n",
        "    response_start_idx = lines.index('Response,Staircase Points\\n') + 1\n",
        "\n",
        "    # Extract response data\n",
        "    response_data = pd.read_csv(file_path, delimiter=',', skiprows=response_start_idx - 1)\n",
        "\n",
        "    return metadata, response_data"
      ],
      "metadata": {
        "id": "BZuJiZNRheNj"
      },
      "execution_count": 52,
      "outputs": []
    },
    {
      "cell_type": "code",
      "source": [
        "file_names = ['Erik_sham_left', 'Erik_sham_right',\n",
        "              'Erik_stim_left', 'Erik_stim_right',\n",
        "              'Kris_sham_left', 'Kris_sham_right',\n",
        "              'Kris_stim_left', 'Kris_stim_right']"
      ],
      "metadata": {
        "id": "Tl2FNDw8N-nl"
      },
      "execution_count": 53,
      "outputs": []
    },
    {
      "cell_type": "code",
      "source": [
        "# collecting all the information from each of the files in the all_datasets\n",
        "meta_all = pd.DataFrame()\n",
        "response_all = pd.DataFrame()\n",
        "for name in file_names:\n",
        "  meta, response = read_staircase(\n",
        "    working_path.joinpath(name + '.csv')\n",
        "    )\n",
        "  new_meta = pd.DataFrame([meta])\n",
        "  new_meta['Session'] = name\n",
        "  meta_all = pd.concat([meta_all, new_meta])\n",
        "\n",
        "  response['Session'] = name\n",
        "  response_all = pd.concat([response_all, response])\n",
        "meta_all['Estimated threshold '] = meta_all['Estimated threshold '].astype(float)"
      ],
      "metadata": {
        "id": "7giaueV1OdVJ"
      },
      "execution_count": 85,
      "outputs": []
    },
    {
      "cell_type": "code",
      "source": [
        "df = meta_all[['Estimated threshold ', 'Session']]\n",
        "df['Subject'] = ['Eric'] * 4 + ['Kristin'] * 4\n",
        "df['Side'] = ['left', 'right'] * 4\n",
        "df['Session_new'] = ['sham', 'sham', 'stim', 'stim', 'sham', 'sham', 'stim', 'stim']"
      ],
      "metadata": {
        "id": "6Pru2m-lAabG",
        "outputId": "59b51eb1-dee3-4e4f-c5e3-ce41dfe429ed",
        "colab": {
          "base_uri": "https://localhost:8080/"
        }
      },
      "execution_count": 87,
      "outputs": [
        {
          "output_type": "stream",
          "name": "stderr",
          "text": [
            "<ipython-input-87-c8eda833980c>:2: SettingWithCopyWarning: \n",
            "A value is trying to be set on a copy of a slice from a DataFrame.\n",
            "Try using .loc[row_indexer,col_indexer] = value instead\n",
            "\n",
            "See the caveats in the documentation: https://pandas.pydata.org/pandas-docs/stable/user_guide/indexing.html#returning-a-view-versus-a-copy\n",
            "  df['Subject'] = ['Erik'] * 4 + ['Kristin'] * 4\n",
            "<ipython-input-87-c8eda833980c>:3: SettingWithCopyWarning: \n",
            "A value is trying to be set on a copy of a slice from a DataFrame.\n",
            "Try using .loc[row_indexer,col_indexer] = value instead\n",
            "\n",
            "See the caveats in the documentation: https://pandas.pydata.org/pandas-docs/stable/user_guide/indexing.html#returning-a-view-versus-a-copy\n",
            "  df['Side'] = ['left', 'right'] * 4\n",
            "<ipython-input-87-c8eda833980c>:4: SettingWithCopyWarning: \n",
            "A value is trying to be set on a copy of a slice from a DataFrame.\n",
            "Try using .loc[row_indexer,col_indexer] = value instead\n",
            "\n",
            "See the caveats in the documentation: https://pandas.pydata.org/pandas-docs/stable/user_guide/indexing.html#returning-a-view-versus-a-copy\n",
            "  df['Session_new'] = ['sham', 'sham', 'stim', 'stim', 'sham', 'sham', 'stim', 'stim']\n"
          ]
        }
      ]
    },
    {
      "cell_type": "code",
      "source": [
        "pastel_blue = '#AEC6CF'\n",
        "pastel_orange = '#FFB347'\n",
        "custom_palette = [pastel_blue, pastel_orange]\n",
        "threshold = sns.catplot(\n",
        "    data=df, kind='bar',\n",
        "    x='Session_new', y='Estimated threshold ', hue='Side', col='Subject',\n",
        "    height=6, errorbar=None, width = 0.7,\n",
        "    palette=custom_palette\n",
        ")\n",
        "threshold.despine(left=True)\n",
        "threshold.set_axis_labels(\"\", \"Estimated threshold\")\n",
        "threshold.legend.set_title(\"The \")"
      ],
      "metadata": {
        "id": "_U44_BLlPWCH",
        "outputId": "398b645a-e636-4d0d-9755-5b09bdc91e35",
        "colab": {
          "base_uri": "https://localhost:8080/",
          "height": 577
        }
      },
      "execution_count": 89,
      "outputs": [
        {
          "output_type": "display_data",
          "data": {
            "text/plain": [
              "<Figure size 1291x600 with 2 Axes>"
            ],
            "image/png": "[encoded data removed]"
          },
          "metadata": {}
        }
      ]
    },
    {
      "cell_type": "code",
      "source": [
        "response_all"
      ],
      "metadata": {
        "id": "-CaMK64jSn2f",
        "outputId": "6f6b7a03-6eb5-43b3-dfe3-8f62402d6022",
        "colab": {
          "base_uri": "https://localhost:8080/",
          "height": 424
        }
      },
      "execution_count": 90,
      "outputs": [
        {
          "output_type": "execute_result",
          "data": {
            "text/plain": [
              "    Response  Staircase Points          Session\n",
              "0        0.0              1.00   Erik_sham_left\n",
              "1        0.0              1.08   Erik_sham_left\n",
              "2        0.0              1.16   Erik_sham_left\n",
              "3        0.0              1.24   Erik_sham_left\n",
              "4        0.0              1.32   Erik_sham_left\n",
              "..       ...               ...              ...\n",
              "42       1.0              1.66  Kris_stim_right\n",
              "43       1.0              1.64  Kris_stim_right\n",
              "44       1.0              1.62  Kris_stim_right\n",
              "45       0.0              1.60  Kris_stim_right\n",
              "46       NaN              1.68  Kris_stim_right\n",
              "\n",
              "[404 rows x 3 columns]"
            ],
            "text/html": [
              "\n",
              "  <div id=\"df-94d20246-8721-404d-8ac3-9af4d69fc3ed\" class=\"colab-df-container\">\n",
              "    <div>\n",
              "<style scoped>\n",
              "    .dataframe tbody tr th:only-of-type {\n",
              "        vertical-align: middle;\n",
              "    }\n",
              "\n",
              "    .dataframe tbody tr th {\n",
              "        vertical-align: top;\n",
              "    }\n",
              "\n",
              "    .dataframe thead th {\n",
              "        text-align: right;\n",
              "    }\n",
              "</style>\n",
              "<table border=\"1\" class=\"dataframe\">\n",
              "  <thead>\n",
              "    <tr style=\"text-align: right;\">\n",
              "      <th></th>\n",
              "      <th>Response</th>\n",
              "      <th>Staircase Points</th>\n",
              "      <th>Session</th>\n",
              "    </tr>\n",
              "  </thead>\n",
              "  <tbody>\n",
              "    <tr>\n",
              "      <th>0</th>\n",
              "      <td>0.0</td>\n",
              "      <td>1.00</td>\n",
              "      <td>Erik_sham_left</td>\n",
              "    </tr>\n",
              "    <tr>\n",
              "      <th>1</th>\n",
              "      <td>0.0</td>\n",
              "      <td>1.08</td>\n",
              "      <td>Erik_sham_left</td>\n",
              "    </tr>\n",
              "    <tr>\n",
              "      <th>2</th>\n",
              "      <td>0.0</td>\n",
              "      <td>1.16</td>\n",
              "      <td>Erik_sham_left</td>\n",
              "    </tr>\n",
              "    <tr>\n",
              "      <th>3</th>\n",
              "      <td>0.0</td>\n",
              "      <td>1.24</td>\n",
              "      <td>Erik_sham_left</td>\n",
              "    </tr>\n",
              "    <tr>\n",
              "      <th>4</th>\n",
              "      <td>0.0</td>\n",
              "      <td>1.32</td>\n",
              "      <td>Erik_sham_left</td>\n",
              "    </tr>\n",
              "    <tr>\n",
              "      <th>...</th>\n",
              "      <td>...</td>\n",
              "      <td>...</td>\n",
              "      <td>...</td>\n",
              "    </tr>\n",
              "    <tr>\n",
              "      <th>42</th>\n",
              "      <td>1.0</td>\n",
              "      <td>1.66</td>\n",
              "      <td>Kris_stim_right</td>\n",
              "    </tr>\n",
              "    <tr>\n",
              "      <th>43</th>\n",
              "      <td>1.0</td>\n",
              "      <td>1.64</td>\n",
              "      <td>Kris_stim_right</td>\n",
              "    </tr>\n",
              "    <tr>\n",
              "      <th>44</th>\n",
              "      <td>1.0</td>\n",
              "      <td>1.62</td>\n",
              "      <td>Kris_stim_right</td>\n",
              "    </tr>\n",
              "    <tr>\n",
              "      <th>45</th>\n",
              "      <td>0.0</td>\n",
              "      <td>1.60</td>\n",
              "      <td>Kris_stim_right</td>\n",
              "    </tr>\n",
              "    <tr>\n",
              "      <th>46</th>\n",
              "      <td>NaN</td>\n",
              "      <td>1.68</td>\n",
              "      <td>Kris_stim_right</td>\n",
              "    </tr>\n",
              "  </tbody>\n",
              "</table>\n",
              "<p>404 rows × 3 columns</p>\n",
              "</div>\n",
              "    <div class=\"colab-df-buttons\">\n",
              "\n",
              "  <div class=\"colab-df-container\">\n",
              "    <button class=\"colab-df-convert\" onclick=\"convertToInteractive('df-94d20246-8721-404d-8ac3-9af4d69fc3ed')\"\n",
              "            title=\"Convert this dataframe to an interactive table.\"\n",
              "            style=\"display:none;\">\n",
              "\n",
              "  <svg xmlns=\"http://www.w3.org/2000/svg\" height=\"24px\" viewBox=\"0 -960 960 960\">\n",
              "    <path d=\"M120-120v-720h720v720H120Zm60-500h600v-160H180v160Zm220 220h160v-160H400v160Zm0 220h160v-160H400v160ZM180-400h160v-160H180v160Zm440 0h160v-160H620v160ZM180-180h160v-160H180v160Zm440 0h160v-160H620v160Z\"/>\n",
              "  </svg>\n",
              "    </button>\n",
              "\n",
              "  <style>\n",
              "    .colab-df-container {\n",
              "      display:flex;\n",
              "      gap: 12px;\n",
              "    }\n",
              "\n",
              "    .colab-df-convert {\n",
              "      background-color: #E8F0FE;\n",
              "      border: none;\n",
              "      border-radius: 50%;\n",
              "      cursor: pointer;\n",
              "      display: none;\n",
              "      fill: #1967D2;\n",
              "      height: 32px;\n",
              "      padding: 0 0 0 0;\n",
              "      width: 32px;\n",
              "    }\n",
              "\n",
              "    .colab-df-convert:hover {\n",
              "      background-color: #E2EBFA;\n",
              "      box-shadow: 0px 1px 2px rgba(60, 64, 67, 0.3), 0px 1px 3px 1px rgba(60, 64, 67, 0.15);\n",
              "      fill: #174EA6;\n",
              "    }\n",
              "\n",
              "    .colab-df-buttons div {\n",
              "      margin-bottom: 4px;\n",
              "    }\n",
              "\n",
              "    [theme=dark] .colab-df-convert {\n",
              "      background-color: #3B4455;\n",
              "      fill: #D2E3FC;\n",
              "    }\n",
              "\n",
              "    [theme=dark] .colab-df-convert:hover {\n",
              "      background-color: #434B5C;\n",
              "      box-shadow: 0px 1px 3px 1px rgba(0, 0, 0, 0.15);\n",
              "      filter: drop-shadow(0px 1px 2px rgba(0, 0, 0, 0.3));\n",
              "      fill: #FFFFFF;\n",
              "    }\n",
              "  </style>\n",
              "\n",
              "    <script>\n",
              "      const buttonEl =\n",
              "        document.querySelector('#df-94d20246-8721-404d-8ac3-9af4d69fc3ed button.colab-df-convert');\n",
              "      buttonEl.style.display =\n",
              "        google.colab.kernel.accessAllowed ? 'block' : 'none';\n",
              "\n",
              "      async function convertToInteractive(key) {\n",
              "        const element = document.querySelector('#df-94d20246-8721-404d-8ac3-9af4d69fc3ed');\n",
              "        const dataTable =\n",
              "          await google.colab.kernel.invokeFunction('convertToInteractive',\n",
              "                                                    [key], {});\n",
              "        if (!dataTable) return;\n",
              "\n",
              "        const docLinkHtml = 'Like what you see? Visit the ' +\n",
              "          '<a target=\"_blank\" href=https://colab.research.google.com/notebooks/data_table.ipynb>data table notebook</a>'\n",
              "          + ' to learn more about interactive tables.';\n",
              "        element.innerHTML = '';\n",
              "        dataTable['output_type'] = 'display_data';\n",
              "        await google.colab.output.renderOutput(dataTable, element);\n",
              "        const docLink = document.createElement('div');\n",
              "        docLink.innerHTML = docLinkHtml;\n",
              "        element.appendChild(docLink);\n",
              "      }\n",
              "    </script>\n",
              "  </div>\n",
              "\n",
              "\n",
              "<div id=\"df-de51a398-684c-4018-9f07-f9a2947830e3\">\n",
              "  <button class=\"colab-df-quickchart\" onclick=\"quickchart('df-de51a398-684c-4018-9f07-f9a2947830e3')\"\n",
              "            title=\"Suggest charts\"\n",
              "            style=\"display:none;\">\n",
              "\n",
              "<svg xmlns=\"http://www.w3.org/2000/svg\" height=\"24px\"viewBox=\"0 0 24 24\"\n",
              "     width=\"24px\">\n",
              "    <g>\n",
              "        <path d=\"M19 3H5c-1.1 0-2 .9-2 2v14c0 1.1.9 2 2 2h14c1.1 0 2-.9 2-2V5c0-1.1-.9-2-2-2zM9 17H7v-7h2v7zm4 0h-2V7h2v10zm4 0h-2v-4h2v4z\"/>\n",
              "    </g>\n",
              "</svg>\n",
              "  </button>\n",
              "\n",
              "<style>\n",
              "  .colab-df-quickchart {\n",
              "      --bg-color: #E8F0FE;\n",
              "      --fill-color: #1967D2;\n",
              "      --hover-bg-color: #E2EBFA;\n",
              "      --hover-fill-color: #174EA6;\n",
              "      --disabled-fill-color: #AAA;\n",
              "      --disabled-bg-color: #DDD;\n",
              "  }\n",
              "\n",
              "  [theme=dark] .colab-df-quickchart {\n",
              "      --bg-color: #3B4455;\n",
              "      --fill-color: #D2E3FC;\n",
              "      --hover-bg-color: #434B5C;\n",
              "      --hover-fill-color: #FFFFFF;\n",
              "      --disabled-bg-color: #3B4455;\n",
              "      --disabled-fill-color: #666;\n",
              "  }\n",
              "\n",
              "  .colab-df-quickchart {\n",
              "    background-color: var(--bg-color);\n",
              "    border: none;\n",
              "    border-radius: 50%;\n",
              "    cursor: pointer;\n",
              "    display: none;\n",
              "    fill: var(--fill-color);\n",
              "    height: 32px;\n",
              "    padding: 0;\n",
              "    width: 32px;\n",
              "  }\n",
              "\n",
              "  .colab-df-quickchart:hover {\n",
              "    background-color: var(--hover-bg-color);\n",
              "    box-shadow: 0 1px 2px rgba(60, 64, 67, 0.3), 0 1px 3px 1px rgba(60, 64, 67, 0.15);\n",
              "    fill: var(--button-hover-fill-color);\n",
              "  }\n",
              "\n",
              "  .colab-df-quickchart-complete:disabled,\n",
              "  .colab-df-quickchart-complete:disabled:hover {\n",
              "    background-color: var(--disabled-bg-color);\n",
              "    fill: var(--disabled-fill-color);\n",
              "    box-shadow: none;\n",
              "  }\n",
              "\n",
              "  .colab-df-spinner {\n",
              "    border: 2px solid var(--fill-color);\n",
              "    border-color: transparent;\n",
              "    border-bottom-color: var(--fill-color);\n",
              "    animation:\n",
              "      spin 1s steps(1) infinite;\n",
              "  }\n",
              "\n",
              "  @keyframes spin {\n",
              "    0% {\n",
              "      border-color: transparent;\n",
              "      border-bottom-color: var(--fill-color);\n",
              "      border-left-color: var(--fill-color);\n",
              "    }\n",
              "    20% {\n",
              "      border-color: transparent;\n",
              "      border-left-color: var(--fill-color);\n",
              "      border-top-color: var(--fill-color);\n",
              "    }\n",
              "    30% {\n",
              "      border-color: transparent;\n",
              "      border-left-color: var(--fill-color);\n",
              "      border-top-color: var(--fill-color);\n",
              "      border-right-color: var(--fill-color);\n",
              "    }\n",
              "    40% {\n",
              "      border-color: transparent;\n",
              "      border-right-color: var(--fill-color);\n",
              "      border-top-color: var(--fill-color);\n",
              "    }\n",
              "    60% {\n",
              "      border-color: transparent;\n",
              "      border-right-color: var(--fill-color);\n",
              "    }\n",
              "    80% {\n",
              "      border-color: transparent;\n",
              "      border-right-color: var(--fill-color);\n",
              "      border-bottom-color: var(--fill-color);\n",
              "    }\n",
              "    90% {\n",
              "      border-color: transparent;\n",
              "      border-bottom-color: var(--fill-color);\n",
              "    }\n",
              "  }\n",
              "</style>\n",
              "\n",
              "  <script>\n",
              "    async function quickchart(key) {\n",
              "      const quickchartButtonEl =\n",
              "        document.querySelector('#' + key + ' button');\n",
              "      quickchartButtonEl.disabled = true;  // To prevent multiple clicks.\n",
              "      quickchartButtonEl.classList.add('colab-df-spinner');\n",
              "      try {\n",
              "        const charts = await google.colab.kernel.invokeFunction(\n",
              "            'suggestCharts', [key], {});\n",
              "      } catch (error) {\n",
              "        console.error('Error during call to suggestCharts:', error);\n",
              "      }\n",
              "      quickchartButtonEl.classList.remove('colab-df-spinner');\n",
              "      quickchartButtonEl.classList.add('colab-df-quickchart-complete');\n",
              "    }\n",
              "    (() => {\n",
              "      let quickchartButtonEl =\n",
              "        document.querySelector('#df-de51a398-684c-4018-9f07-f9a2947830e3 button');\n",
              "      quickchartButtonEl.style.display =\n",
              "        google.colab.kernel.accessAllowed ? 'block' : 'none';\n",
              "    })();\n",
              "  </script>\n",
              "</div>\n",
              "    </div>\n",
              "  </div>\n"
            ],
            "application/vnd.google.colaboratory.intrinsic+json": {
              "type": "dataframe",
              "variable_name": "response_all",
              "summary": "{\n  \"name\": \"response_all\",\n  \"rows\": 404,\n  \"fields\": [\n    {\n      \"column\": \"Response\",\n      \"properties\": {\n        \"dtype\": \"number\",\n        \"std\": 0.4663596995775938,\n        \"min\": 0.0,\n        \"max\": 1.0,\n        \"num_unique_values\": 2,\n        \"samples\": [\n          1.0,\n          0.0\n        ],\n        \"semantic_type\": \"\",\n        \"description\": \"\"\n      }\n    },\n    {\n      \"column\": \"Staircase Points\",\n      \"properties\": {\n        \"dtype\": \"number\",\n        \"std\": 0.4411304166769769,\n        \"min\": 0.519999999999999,\n        \"max\": 2.4,\n        \"num_unique_values\": 102,\n        \"samples\": [\n          2.08,\n          0.879999999999999\n        ],\n        \"semantic_type\": \"\",\n        \"description\": \"\"\n      }\n    },\n    {\n      \"column\": \"Session\",\n      \"properties\": {\n        \"dtype\": \"category\",\n        \"num_unique_values\": 8,\n        \"samples\": [\n          \"Erik_sham_right\",\n          \"Kris_sham_right\"\n        ],\n        \"semantic_type\": \"\",\n        \"description\": \"\"\n      }\n    }\n  ]\n}"
            }
          },
          "metadata": {},
          "execution_count": 90
        }
      ]
    },
    {
      "cell_type": "code",
      "source": [
        "def create_staircase(response_data, meta_data, session): # Session = Kris_stim etc.\n",
        "  left_field = response_data[response_data['Session'] == session + '_left']\n",
        "  right_field = response_data[response_data['Session'] == session + '_right']\n",
        "  left_meta = meta_data[meta_data['Session'] == session + '_left']\n",
        "  right_meta = meta_data[meta_data['Session'] == session + '_right']\n",
        "\n",
        "  trial_numbers_right = list(range(1, len(right_field['Staircase Points'].values) + 1))\n",
        "  trial_numbers_left = list(range(1, len(left_field['Staircase Points'].values) + 1))\n",
        "\n",
        "  # Plot staircase points as intensities\n",
        "  plt.figure(figsize=(10, 5))\n",
        "  plt.plot(trial_numbers_right, right_field['Staircase Points'].values, marker='o', linestyle='-', color='blue',\n",
        "         alpha=0.5,\n",
        "         label='Staircase Points (right visual field)')\n",
        "  plt.plot(trial_numbers_left, left_field['Staircase Points'].values, marker='o', linestyle='-', color='red',\n",
        "         alpha=0.5, label='Staircase Points (left visual field)')\n",
        "\n",
        "  plt.axhline(y=right_meta['Estimated threshold '].values[0], color='lightblue', linestyle='--', label='Estimated Threshold (right visual field)')\n",
        "  plt.axhline(y=left_meta['Estimated threshold '].values[0], color='salmon', linestyle='--', label='Estimated Threshold (left visual field)')\n",
        "\n",
        "  if 'Kris' in session:\n",
        "    name = 'Kristin'\n",
        "  elif 'Erik' in session:\n",
        "    name = 'Eric'\n",
        "\n",
        "  if 'stim' in session:\n",
        "    condition = 'stimulation'\n",
        "  elif 'sham' in session:\n",
        "    condition = 'sham'\n",
        "\n",
        "# Label axes and add title\n",
        "  plt.xlabel('Trial Number')\n",
        "  plt.ylabel('Stimulus Intensity')\n",
        "  plt.title('Staircase plot for ' + name + ' during ' + condition + ' session')\n",
        "  plt.legend()\n",
        "\n",
        "  # Show plot\n",
        "  plt.grid(True)\n",
        "  plt.show()"
      ],
      "metadata": {
        "id": "_QDD8ocCSu9u"
      },
      "execution_count": 95,
      "outputs": []
    },
    {
      "cell_type": "code",
      "source": [
        "create_staircase(response_all, meta_all, 'Kris_stim')"
      ],
      "metadata": {
        "colab": {
          "base_uri": "https://localhost:8080/",
          "height": 496
        },
        "id": "9qD5Ig43Kw4H",
        "outputId": "75a14bd7-8f84-4649-8307-941d597980cc"
      },
      "execution_count": 96,
      "outputs": [
        {
          "output_type": "display_data",
          "data": {
            "text/plain": [
              "<Figure size 1000x500 with 1 Axes>"
            ],
            "image/png": "[encoded data removed]"
          },
          "metadata": {}
        }
      ]
    },
    {
      "cell_type": "markdown",
      "source": [
        "**Left over**"
      ],
      "metadata": {
        "id": "v4NzyJhUMwWd"
      }
    },
    {
      "cell_type": "code",
      "source": [
        "# reading base report file\n",
        "def read_basereport_file(file_path, data_start_row, delimiter=','):\n",
        "    try:\n",
        "        # Read the CSV file starting from the actual data row, with the correct delimiter\n",
        "        data = pd.read_csv(file_path, delimiter=delimiter, skiprows=data_start_row, on_bad_lines='skip')\n",
        "        return data\n",
        "    except pd.errors.ParserError as pe:\n",
        "        print(f\"Parser error: {pe}\")\n",
        "        return None\n",
        "    except Exception as e:\n",
        "        print(f\"Error processing file {file_path}: {e}\")\n",
        "        return None\n",
        "\n",
        "# Example usage\n",
        "data_start_row = 7  # Adjust this value based on where your actual data starts (0-based index)\n",
        "delimiter = ','  # Adjust the delimiter if necessary\n",
        "basereport = read_basereport_file(working_path.joinpath('BaseReport.csv'), data_start_row, delimiter)"
      ],
      "metadata": {
        "id": "V0agiXgZZq80"
      },
      "execution_count": null,
      "outputs": []
    },
    {
      "cell_type": "code",
      "source": [
        "# working on base report\n",
        "# maybe correct tril is when it is True in the \"Is Triggered Correct ROI\"\n",
        "basereport.drop(['Speed Increase', 'TFIncrease', 'Block Number'], axis='columns', inplace=True)"
      ],
      "metadata": {
        "id": "QeT1QOWBan1f"
      },
      "execution_count": null,
      "outputs": []
    },
    {
      "cell_type": "code",
      "source": [
        " # building a plot on accuracy over trials\n",
        "responses = basereport['Is Triggered Correct ROI'].values  #False for incorrect, True for correct\n",
        "trials = basereport['Total Trial Number'].values\n",
        "resp = []\n",
        "for response in responses:\n",
        "  if response == True:\n",
        "    resp.append(1)\n",
        "  elif response == False:\n",
        "    resp.append(0)\n",
        "  else:\n",
        "    print(response)\n",
        "    break\n",
        "\n",
        "accuracy = np.cumsum(resp) / np.arange(1, 63)\n",
        "plt.figure(figsize=(10, 5))\n",
        "plt.plot(trials, accuracy, marker='o', linestyle='-')\n",
        "plt.xlabel('Trial Number')\n",
        "plt.ylabel('Cumulative Accuracy')\n",
        "plt.title('Response Accuracy Over Trials')\n",
        "plt.grid(True)\n",
        "plt.show()"
      ],
      "metadata": {
        "id": "mVZdoKk5Qp9H"
      },
      "execution_count": null,
      "outputs": []
    },
    {
      "cell_type": "code",
      "source": [
        "def read_staircase(file_path):\n",
        "    # Initialize dictionaries to store different sections\n",
        "    metadata = {}\n",
        "    reversal_list = []\n",
        "    response_data = None\n",
        "\n",
        "    with open(file_path, 'r', encoding='utf-8') as f:\n",
        "        lines = f.readlines()\n",
        "\n",
        "    # Extract metadata\n",
        "    metadata_row = lines[0].strip().split(',')\n",
        "    metadata_values = lines[1].strip().split(',')\n",
        "    metadata = dict(zip(metadata_row, metadata_values))\n",
        "\n",
        "    # Find the start indices for each section\n",
        "    reversal_start_idx = lines.index('Reversal List\\n') + 1\n",
        "    response_start_idx = lines.index('Response,Staircase Points\\n') + 1\n",
        "\n",
        "    # Extract reversal list\n",
        "    for line in lines[reversal_start_idx:response_start_idx - 2]:\n",
        "        reversal_list.extend(line.strip().split(','))\n",
        "\n",
        "    # Extract response data\n",
        "    response_data = pd.read_csv(file_path, delimiter=',', skiprows=response_start_idx - 1)\n",
        "\n",
        "    return metadata, reversal_list, response_data"
      ],
      "metadata": {
        "id": "jc7N9ICUJ_8c"
      },
      "execution_count": null,
      "outputs": []
    }
  ]
}