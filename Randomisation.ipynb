{
  "nbformat": 4,
  "nbformat_minor": 0,
  "metadata": {
    "colab": {
      "provenance": [],
      "authorship_tag": "ABX9TyNtnAbzv0zHB1lVBPlntpPe",
      "include_colab_link": true
    },
    "kernelspec": {
      "name": "python3",
      "display_name": "Python 3"
    },
    "language_info": {
      "name": "python"
    }
  },
  "cells": [
    {
      "cell_type": "markdown",
      "metadata": {
        "id": "view-in-github",
        "colab_type": "text"
      },
      "source": [
        "<a href=\"https://colab.research.google.com/github/cristinarainich/DDCS/blob/main/Randomisation.ipynb\" target=\"_parent\"><img src=\"https://colab.research.google.com/assets/colab-badge.svg\" alt=\"Open In Colab\"/></a>"
      ]
    },
    {
      "cell_type": "code",
      "source": [
        "import random"
      ],
      "metadata": {
        "id": "1GQvYvVL4iwp"
      },
      "execution_count": 1,
      "outputs": []
    },
    {
      "cell_type": "code",
      "source": [
        "## randomisation of stimulation conditions with counterbalancing\n",
        "# 1, 2, 3 - active stim over V5, active stim over V1, sham\n",
        "conditions = [[1, 2, 3], [1, 3, 2], [2, 1, 3],\n",
        "              [2, 3, 1], [3, 1, 2], [3, 2, 1]]\n",
        "print('Stim conditions')\n",
        "for i in range(0, 4): # counterbalancing in groups of 18\n",
        "  print(f'Randomisation {i+1}')\n",
        "  random.shuffle(conditions)\n",
        "  orders = conditions * 3\n",
        "  random.shuffle(orders)\n",
        "  for j in range(0, len(orders)):\n",
        "    print(f'Participant {j+1}: {orders[j]}')\n",
        "  print('')"
      ],
      "metadata": {
        "id": "vG4VxBDc4mU4",
        "outputId": "6bd57fad-3b9d-4e7e-9b5b-eb4f246e7a55",
        "colab": {
          "base_uri": "https://localhost:8080/"
        }
      },
      "execution_count": 5,
      "outputs": [
        {
          "output_type": "stream",
          "name": "stdout",
          "text": [
            "Randomisation 1\n",
            "Participant 1: [2, 3, 1]\n",
            "Participant 2: [1, 3, 2]\n",
            "Participant 3: [2, 1, 3]\n",
            "Participant 4: [1, 2, 3]\n",
            "Participant 5: [1, 2, 3]\n",
            "Participant 6: [2, 3, 1]\n",
            "Participant 7: [3, 1, 2]\n",
            "Participant 8: [3, 2, 1]\n",
            "Participant 9: [3, 1, 2]\n",
            "Participant 10: [3, 2, 1]\n",
            "Participant 11: [3, 2, 1]\n",
            "Participant 12: [2, 1, 3]\n",
            "Participant 13: [3, 1, 2]\n",
            "Participant 14: [2, 3, 1]\n",
            "Participant 15: [1, 3, 2]\n",
            "Participant 16: [1, 2, 3]\n",
            "Participant 17: [2, 1, 3]\n",
            "Participant 18: [1, 3, 2]\n"
          ]
        }
      ]
    },
    {
      "cell_type": "code",
      "source": [
        "## randomisation of text versions for online reading\n",
        "# 1, 2, 3 - verfsions of texts\n",
        "conditions = [[1, 2, 3], [1, 3, 2], [2, 1, 3],\n",
        "              [2, 3, 1], [3, 1, 2], [3, 2, 1]]\n",
        "print('Online reading')\n",
        "for i in range(0, 4): # counterbalancing in groups of 18\n",
        "  print(f'Randomisation {i+1}')\n",
        "  random.shuffle(conditions)\n",
        "  orders = conditions * 3\n",
        "  random.shuffle(orders)\n",
        "  for j in range(0, len(orders)):\n",
        "    print(f'Participant {j+1}: {orders[j]}')\n",
        "  print('')"
      ],
      "metadata": {
        "id": "5sZyWJLt62Ew"
      },
      "execution_count": null,
      "outputs": []
    },
    {
      "cell_type": "code",
      "source": [
        "## randomisation of sham areas - V5 or V1\n",
        "# area A and B - V5 and V1\n",
        "site = ['Area A', 'Area B']\n",
        "num_participants = 18\n",
        "print('Site for sham')\n",
        "for i in range(0, 4):\n",
        "  print(f'Randomisation {i+1}')\n",
        "  random.shuffle(site)\n",
        "  orders = site * 9\n",
        "  random.shuffle(orders)\n",
        "  for j in range(0, len(orders)):\n",
        "    print(f'Participant {j+1}: {orders[j]}')\n",
        "  print('')"
      ],
      "metadata": {
        "id": "aA4Iwls67Xuf",
        "outputId": "9e4c279e-2a1b-4b0a-b3f4-f1e08bdd90c8",
        "colab": {
          "base_uri": "https://localhost:8080/"
        }
      },
      "execution_count": 8,
      "outputs": [
        {
          "output_type": "stream",
          "name": "stdout",
          "text": [
            "Site for sham\n",
            "Randomisation 1\n",
            "Participant 1: Area A\n",
            "Participant 2: Area A\n",
            "Participant 3: Area B\n",
            "Participant 4: Area B\n",
            "Participant 5: Area A\n",
            "Participant 6: Area A\n",
            "Participant 7: Area B\n",
            "Participant 8: Area B\n",
            "Participant 9: Area B\n",
            "Participant 10: Area A\n",
            "Participant 11: Area A\n",
            "Participant 12: Area B\n",
            "Participant 13: Area B\n",
            "Participant 14: Area B\n",
            "Participant 15: Area A\n",
            "Participant 16: Area B\n",
            "Participant 17: Area A\n",
            "Participant 18: Area A\n"
          ]
        }
      ]
    },
    {
      "cell_type": "code",
      "source": [
        "## randomisation of marcovaldo texts using latin square\n",
        "# 1, 2, 3, 4 - versions of text\n",
        "# Define the original Latin square (4x4) with values from 1 to 4\n",
        "latin_square = [[1, 2, 3, 4],\n",
        "               [2, 3, 4, 1],\n",
        "               [3, 4, 1, 2],\n",
        "               [4, 1, 2, 3]]\n",
        "print('Marcovaldo randomisation')\n",
        "for i in range(0, 3):\n",
        "  print(f'Randomisation {i+1}')\n",
        "  row_permutation = list(range(4))\n",
        "  random.shuffle(row_permutation)\n",
        "  shuffled_latin_square = [latin_square[i] for i in row_permutation]\n",
        "  column_permutation = list(range(4))\n",
        "  random.shuffle(column_permutation)\n",
        "  shuffled_latin_square = [[shuffled_latin_square[i][j] for j in column_permutation] for i in range(4)]\n",
        "  orders = shuffled_latin_square * 5\n",
        "  random.shuffle(orders)\n",
        "  for j in range(0, len(orders)):\n",
        "    print(f'Participant {j+1}: {orders[j]}')\n",
        "  print('')"
      ],
      "metadata": {
        "id": "687c0j0B8OUv",
        "outputId": "e0753267-4833-479b-f6cf-9c2ce98c9624",
        "colab": {
          "base_uri": "https://localhost:8080/"
        }
      },
      "execution_count": 13,
      "outputs": [
        {
          "output_type": "stream",
          "name": "stdout",
          "text": [
            "Randomisation 1\n",
            "Participant 1: [3, 2, 1, 4]\n",
            "Participant 2: [4, 3, 2, 1]\n",
            "Participant 3: [2, 1, 4, 3]\n",
            "Participant 4: [3, 2, 1, 4]\n",
            "Participant 5: [1, 4, 3, 2]\n",
            "Participant 6: [1, 4, 3, 2]\n",
            "Participant 7: [3, 2, 1, 4]\n",
            "Participant 8: [4, 3, 2, 1]\n",
            "Participant 9: [2, 1, 4, 3]\n",
            "Participant 10: [1, 4, 3, 2]\n",
            "Participant 11: [1, 4, 3, 2]\n",
            "Participant 12: [4, 3, 2, 1]\n",
            "Participant 13: [2, 1, 4, 3]\n",
            "Participant 14: [2, 1, 4, 3]\n",
            "Participant 15: [4, 3, 2, 1]\n",
            "Participant 16: [3, 2, 1, 4]\n",
            "Participant 17: [1, 4, 3, 2]\n",
            "Participant 18: [2, 1, 4, 3]\n",
            "Participant 19: [4, 3, 2, 1]\n",
            "Participant 20: [3, 2, 1, 4]\n",
            "\n"
          ]
        }
      ]
    },
    {
      "cell_type": "code",
      "source": [
        "## randomisation of RAN versions texts using latin square\n",
        "# 1, 2, 3, 4 - versions of text\n",
        "# Define the original Latin square (4x4) with values from 1 to 4\n",
        "latin_square = [[1, 2, 3, 4],\n",
        "               [2, 3, 4, 1],\n",
        "               [3, 4, 1, 2],\n",
        "               [4, 1, 2, 3]]\n",
        "print('RAN randomisation')\n",
        "for i in range(0, 3):\n",
        "  print(f'Randomisation {i+1}')\n",
        "  row_permutation = list(range(4))\n",
        "  random.shuffle(row_permutation)\n",
        "  shuffled_latin_square = [latin_square[i] for i in row_permutation]\n",
        "  column_permutation = list(range(4))\n",
        "  random.shuffle(column_permutation)\n",
        "  shuffled_latin_square = [[shuffled_latin_square[i][j] for j in column_permutation] for i in range(4)]\n",
        "  orders = shuffled_latin_square * 5\n",
        "  random.shuffle(orders)\n",
        "  for j in range(0, len(orders)):\n",
        "    print(f'Participant {j+1}: {orders[j]}')\n",
        "  print('')"
      ],
      "metadata": {
        "id": "-sxhI6r6BjnQ"
      },
      "execution_count": null,
      "outputs": []
    },
    {
      "cell_type": "code",
      "source": [
        "## randomisation of behavioral tests orders using latin square\n",
        "#\n",
        "import itertools\n",
        "import random\n",
        "\n",
        "# Define the number of participants, time points, and tasks\n",
        "num_participants = 4\n",
        "num_time_points = 4\n",
        "num_tasks = 4\n",
        "\n",
        "# Generate Latin squares for tasks and time points\n",
        "task_latin_square = list(itertools.permutations(range(1, num_tasks + 1)))\n",
        "time_point_latin_square = list(itertools.permutations(range(1, num_time_points + 1)))\n",
        "\n",
        "# Randomly shuffle the Latin squares\n",
        "random.shuffle(task_latin_square)\n",
        "random.shuffle(time_point_latin_square)\n",
        "\n",
        "# Assign rows from the Latin squares to participants\n",
        "participant_task_rows = random.sample(task_latin_square, num_participants)\n",
        "participant_time_point_rows = random.sample(time_point_latin_square, num_participants)\n",
        "\n",
        "# Combine the assigned rows to determine the order of tasks at each time point for each participant\n",
        "participant_orders = []\n",
        "for i in range(num_participants):\n",
        "    task_order = [task_latin_square[participant_task_rows[i][j] - 1] for j in range(num_time_points)]\n",
        "    time_point_order = [time_point_latin_square[participant_time_point_rows[i][j] - 1] for j in range(num_time_points)]\n",
        "    participant_orders.append((i + 1, task_order, time_point_order))\n",
        "\n",
        "# Display the randomized order for each participant\n",
        "for participant, tasks, time_points in participant_orders:\n",
        "    print(f\"Participant {participant}:\")\n",
        "    for i in range(num_time_points):\n",
        "        print(f\"Time Point {i + 1}: Task {tasks[i]}, Time Point {time_points[i]}\")\n"
      ],
      "metadata": {
        "id": "sOtb-EbGAGxZ",
        "outputId": "b1576ba1-a0d2-413e-8f06-ad1b7a8a2456",
        "colab": {
          "base_uri": "https://localhost:8080/"
        }
      },
      "execution_count": 14,
      "outputs": [
        {
          "output_type": "stream",
          "name": "stdout",
          "text": [
            "Participant 1:\n",
            "Time Point 1: Task (3, 4, 1, 2), Time Point (1, 2, 4, 3)\n",
            "Time Point 2: Task (2, 4, 1, 3), Time Point (4, 2, 1, 3)\n",
            "Time Point 3: Task (4, 3, 1, 2), Time Point (2, 1, 4, 3)\n",
            "Time Point 4: Task (1, 2, 3, 4), Time Point (1, 4, 2, 3)\n",
            "Participant 2:\n",
            "Time Point 1: Task (2, 4, 1, 3), Time Point (4, 2, 1, 3)\n",
            "Time Point 2: Task (1, 2, 3, 4), Time Point (2, 1, 4, 3)\n",
            "Time Point 3: Task (3, 4, 1, 2), Time Point (1, 4, 2, 3)\n",
            "Time Point 4: Task (4, 3, 1, 2), Time Point (1, 2, 4, 3)\n",
            "Participant 3:\n",
            "Time Point 1: Task (2, 4, 1, 3), Time Point (4, 2, 1, 3)\n",
            "Time Point 2: Task (4, 3, 1, 2), Time Point (1, 2, 4, 3)\n",
            "Time Point 3: Task (3, 4, 1, 2), Time Point (1, 4, 2, 3)\n",
            "Time Point 4: Task (1, 2, 3, 4), Time Point (2, 1, 4, 3)\n",
            "Participant 4:\n",
            "Time Point 1: Task (2, 4, 1, 3), Time Point (1, 2, 4, 3)\n",
            "Time Point 2: Task (1, 2, 3, 4), Time Point (4, 2, 1, 3)\n",
            "Time Point 3: Task (4, 3, 1, 2), Time Point (1, 4, 2, 3)\n",
            "Time Point 4: Task (3, 4, 1, 2), Time Point (2, 1, 4, 3)\n"
          ]
        }
      ]
    },
    {
      "cell_type": "code",
      "source": [],
      "metadata": {
        "id": "OIs-Gl3CCdpW"
      },
      "execution_count": null,
      "outputs": []
    }
  ]
}