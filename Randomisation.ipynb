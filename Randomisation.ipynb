{
  "nbformat": 4,
  "nbformat_minor": 0,
  "metadata": {
    "colab": {
      "provenance": [],
      "authorship_tag": "ABX9TyM7kNsL2x/uQk6yZQqna3/Q",
      "include_colab_link": true
    },
    "kernelspec": {
      "name": "python3",
      "display_name": "Python 3"
    },
    "language_info": {
      "name": "python"
    }
  },
  "cells": [
    {
      "cell_type": "markdown",
      "metadata": {
        "id": "view-in-github",
        "colab_type": "text"
      },
      "source": [
        "<a href=\"https://colab.research.google.com/github/cristinarainich/DDCS/blob/main/Randomisation.ipynb\" target=\"_parent\"><img src=\"https://colab.research.google.com/assets/colab-badge.svg\" alt=\"Open In Colab\"/></a>"
      ]
    },
    {
      "cell_type": "code",
      "execution_count": 3,
      "metadata": {
        "colab": {
          "base_uri": "https://localhost:8080/"
        },
        "id": "WrM647D0Mt9q",
        "outputId": "71cc8fea-14c7-475d-becb-b41900765cb5"
      },
      "outputs": [
        {
          "output_type": "stream",
          "name": "stdout",
          "text": [
            "Participant 1: [2, 1, 3]\n",
            "Participant 2: [1, 3, 2]\n",
            "Participant 3: [3, 1, 2]\n",
            "Participant 4: [3, 1, 2]\n",
            "Participant 5: [1, 2, 3]\n",
            "Participant 6: [1, 3, 2]\n",
            "Participant 7: [2, 1, 3]\n",
            "Participant 8: [2, 3, 1]\n",
            "Participant 9: [3, 2, 1]\n",
            "Participant 10: [1, 3, 2]\n"
          ]
        }
      ],
      "source": [
        "## randomisation of stimulation conditions with counterbalancing\n",
        "# condition 1 = Sham, condition 2 = active V5, condition 3 = active V1\n",
        "import random\n",
        "\n",
        "num_participants = 60\n",
        "num_sessions = 3\n",
        "num_conditions = 3 # sham, active over V1, active over V5\n",
        "\n",
        "# generated random orders for each participant\n",
        "participant_orders = []\n",
        "\n",
        "for _ in range(num_participants):\n",
        "    # creating list with sessions and conditions\n",
        "    session_order = list(range(1, num_sessions + 1))\n",
        "    condition_order = list(range(1, num_conditions + 1))\n",
        "\n",
        "    # shuffle order of sessions and conditions\n",
        "    random.shuffle(session_order)\n",
        "    random.shuffle(condition_order)\n",
        "\n",
        "    # combining session and condition order\n",
        "    combined_order = list(zip(session_order, condition_order))\n",
        "\n",
        "    # sorting order of sessions\n",
        "    combined_order.sort(key=lambda x: x[0])\n",
        "    final_order = [x[1] for x in combined_order]\n",
        "    participant_orders.append(final_order)\n",
        "\n",
        "for i, order in enumerate(participant_orders[:10], start=1):\n",
        "    print(f\"Participant {i}: {order}\")\n"
      ]
    },
    {
      "cell_type": "code",
      "source": [
        "import random\n",
        "\n",
        "# Number of participants\n",
        "num_participants = 60\n",
        "\n",
        "# Number of sessions\n",
        "num_sessions = 3\n",
        "\n",
        "# Number of conditions\n",
        "num_conditions = 3\n",
        "\n",
        "# Create a list of participants and their order\n",
        "participants = list(range(1, num_participants + 1))\n",
        "\n",
        "# Create a list of conditions\n",
        "conditions = ['Active A', 'Active B', 'Sham']\n",
        "\n",
        "# Create a list to track the allocation of sham stimulation to areas A or B for each participant\n",
        "sham_allocation = ['Area A', 'Area B'] * (num_participants // 2)\n",
        "random.shuffle(sham_allocation)\n",
        "\n",
        "# Generate random orders for each participant\n",
        "participant_orders = []\n",
        "\n",
        "for _ in range(num_participants):\n",
        "    # Shuffle the order of sessions\n",
        "    session_order = list(range(1, num_sessions + 1))\n",
        "    random.shuffle(session_order)\n",
        "\n",
        "    # Assign conditions (including random allocation of sham to areas)\n",
        "    random.shuffle(conditions)\n",
        "    session_conditions = conditions[:]\n",
        "\n",
        "    # Replace 'Sham' with 'Sham - Area A' or 'Sham - Area B' based on the allocated value\n",
        "    sham_area = sham_allocation.pop()\n",
        "    session_conditions = [f'Sham - {sham_area}' if condition == 'Sham' else condition for condition in session_conditions]\n",
        "\n",
        "    # Combine session and condition orders\n",
        "    combined_order = list(zip(session_order, session_conditions))\n",
        "\n",
        "    # Sort by session order\n",
        "    combined_order.sort(key=lambda x: x[0])\n",
        "\n",
        "    # Extract condition order\n",
        "    final_order = [x[1] for x in combined_order]\n",
        "\n",
        "    # Add order to participant_orders list\n",
        "    participant_orders.append(final_order)\n",
        "\n",
        "# Output the result (showing the first 10 participants)\n",
        "for i, order in enumerate(participant_orders[:10], start=1):\n",
        "    print(f\"Participant {i}: {order}\")\n"
      ],
      "metadata": {
        "colab": {
          "base_uri": "https://localhost:8080/"
        },
        "id": "KLAz3Yb6QmSD",
        "outputId": "3fba8207-601b-40b9-d1b0-27252122a43f"
      },
      "execution_count": 5,
      "outputs": [
        {
          "output_type": "stream",
          "name": "stdout",
          "text": [
            "Participant 1: ['Active B', 'Sham - Area A', 'Active A']\n",
            "Participant 2: ['Active A', 'Sham - Area B', 'Active B']\n",
            "Participant 3: ['Active A', 'Sham - Area B', 'Active B']\n",
            "Participant 4: ['Active B', 'Active A', 'Sham - Area B']\n",
            "Participant 5: ['Active B', 'Active A', 'Sham - Area B']\n",
            "Participant 6: ['Active A', 'Sham - Area B', 'Active B']\n",
            "Participant 7: ['Active A', 'Sham - Area B', 'Active B']\n",
            "Participant 8: ['Sham - Area A', 'Active A', 'Active B']\n",
            "Participant 9: ['Active A', 'Sham - Area A', 'Active B']\n",
            "Participant 10: ['Active B', 'Active A', 'Sham - Area B']\n"
          ]
        }
      ]
    },
    {
      "cell_type": "code",
      "source": [],
      "metadata": {
        "id": "3tGfFefOQDPi"
      },
      "execution_count": null,
      "outputs": []
    }
  ]
}