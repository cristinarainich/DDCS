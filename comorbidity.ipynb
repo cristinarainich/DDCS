{
  "nbformat": 4,
  "nbformat_minor": 0,
  "metadata": {
    "colab": {
      "provenance": [],
      "authorship_tag": "ABX9TyNjeo3gSrk3Y+jo7srSL1Ti",
      "include_colab_link": true
    },
    "kernelspec": {
      "name": "python3",
      "display_name": "Python 3"
    },
    "language_info": {
      "name": "python"
    }
  },
  "cells": [
    {
      "cell_type": "markdown",
      "metadata": {
        "id": "view-in-github",
        "colab_type": "text"
      },
      "source": [
        "<a href=\"https://colab.research.google.com/github/cristinarainich/DDCS/blob/main/comorbidity.ipynb\" target=\"_parent\"><img src=\"https://colab.research.google.com/assets/colab-badge.svg\" alt=\"Open In Colab\"/></a>"
      ]
    },
    {
      "cell_type": "code",
      "execution_count": 1,
      "metadata": {
        "id": "YNuOrCu7iah8"
      },
      "outputs": [],
      "source": [
        "import pandas as pd\n",
        "import numpy as np\n",
        "from pathlib import Path\n",
        "import pylab as pl\n",
        "import seaborn as sns\n",
        "import statsmodels.api as sm\n",
        "from statsmodels.formula.api import ols\n",
        "import scipy.stats as stats"
      ]
    },
    {
      "cell_type": "code",
      "source": [
        "from google.colab import drive\n",
        "drive.mount('/content/gdrive')"
      ],
      "metadata": {
        "colab": {
          "base_uri": "https://localhost:8080/"
        },
        "id": "Rqr46cK3ijBl",
        "outputId": "91a43924-92e3-4d3b-8bbc-d6d485a109fa"
      },
      "execution_count": 2,
      "outputs": [
        {
          "output_type": "stream",
          "name": "stdout",
          "text": [
            "Mounted at /content/gdrive\n"
          ]
        }
      ]
    },
    {
      "cell_type": "code",
      "source": [
        "working_path = Path('/content/gdrive/MyDrive/KKNV/comorbidity')"
      ],
      "metadata": {
        "id": "2HYbbobaiw_8"
      },
      "execution_count": 5,
      "outputs": []
    },
    {
      "cell_type": "code",
      "source": [
        "!ls /content/gdrive/MyDrive/KKNV/comorbidity"
      ],
      "metadata": {
        "colab": {
          "base_uri": "https://localhost:8080/"
        },
        "id": "BIv4ceOFixK0",
        "outputId": "4dde58ef-e879-467d-cc61-3378bd9fbc6b"
      },
      "execution_count": 6,
      "outputs": [
        {
          "output_type": "stream",
          "name": "stdout",
          "text": [
            "data_1.csv  data_2.csv\n"
          ]
        }
      ]
    },
    {
      "cell_type": "code",
      "source": [
        "data1 = pd.read_csv(\n",
        "    working_path.joinpath('data_1.csv'),\n",
        "    index_col=None\n",
        ")\n",
        "data2 = pd.read_csv(\n",
        "    working_path.joinpath('data_2.csv'),\n",
        "    index_col=None\n",
        ")"
      ],
      "metadata": {
        "id": "H6HRNwNajjMc"
      },
      "execution_count": 7,
      "outputs": []
    },
    {
      "cell_type": "code",
      "source": [
        "data1.head()"
      ],
      "metadata": {
        "colab": {
          "base_uri": "https://localhost:8080/",
          "height": 236
        },
        "id": "uWpcQkvIlnKL",
        "outputId": "70fedc40-fda1-42ee-df7d-f6d98e82018e"
      },
      "execution_count": 8,
      "outputs": [
        {
          "output_type": "execute_result",
          "data": {
            "text/plain": [
              "   Rec_Session_Id Block_Name  Block_Nr                       Task_Name  \\\n",
              "0          910234    block_1         1                            PI20   \n",
              "1          910234    block_1         1                    Introduction   \n",
              "2          910234    block_1         1                              AQ   \n",
              "3          910234    block_1         1                      ARSR-v1.1.   \n",
              "4          910234    block_1         1  Edinburgh Handedness Inventory   \n",
              "\n",
              "   Task_Nr  Trial_Id  Trial_Nr 01_Mutter 02_Vater 03_Großeltern  ... PI20_11  \\\n",
              "0        2         1         1       NaN      NaN           NaN  ...     1.0   \n",
              "1        1         1         1       NaN      NaN           NaN  ...     NaN   \n",
              "2        3         1         1       NaN      NaN           NaN  ...     NaN   \n",
              "3        4         1         1       NaN      NaN           NaN  ...     NaN   \n",
              "4        5         1         1     False    False         False  ...     NaN   \n",
              "\n",
              "  PI20_12 PI20_13 PI20_14 PI20_15  PI20_16  PI20_17  PI20_18  PI20_19  PI20_20  \n",
              "0     1.0     5.0     1.0     1.0      1.0      5.0      1.0      4.0      1.0  \n",
              "1     NaN     NaN     NaN     NaN      NaN      NaN      NaN      NaN      NaN  \n",
              "2     NaN     NaN     NaN     NaN      NaN      NaN      NaN      NaN      NaN  \n",
              "3     NaN     NaN     NaN     NaN      NaN      NaN      NaN      NaN      NaN  \n",
              "4     NaN     NaN     NaN     NaN      NaN      NaN      NaN      NaN      NaN  \n",
              "\n",
              "[5 rows x 102 columns]"
            ],
            "text/html": [
              "\n",
              "  <div id=\"df-4430ed18-d5e8-4e44-a324-3bf908fd7c96\" class=\"colab-df-container\">\n",
              "    <div>\n",
              "<style scoped>\n",
              "    .dataframe tbody tr th:only-of-type {\n",
              "        vertical-align: middle;\n",
              "    }\n",
              "\n",
              "    .dataframe tbody tr th {\n",
              "        vertical-align: top;\n",
              "    }\n",
              "\n",
              "    .dataframe thead th {\n",
              "        text-align: right;\n",
              "    }\n",
              "</style>\n",
              "<table border=\"1\" class=\"dataframe\">\n",
              "  <thead>\n",
              "    <tr style=\"text-align: right;\">\n",
              "      <th></th>\n",
              "      <th>Rec_Session_Id</th>\n",
              "      <th>Block_Name</th>\n",
              "      <th>Block_Nr</th>\n",
              "      <th>Task_Name</th>\n",
              "      <th>Task_Nr</th>\n",
              "      <th>Trial_Id</th>\n",
              "      <th>Trial_Nr</th>\n",
              "      <th>01_Mutter</th>\n",
              "      <th>02_Vater</th>\n",
              "      <th>03_Großeltern</th>\n",
              "      <th>...</th>\n",
              "      <th>PI20_11</th>\n",
              "      <th>PI20_12</th>\n",
              "      <th>PI20_13</th>\n",
              "      <th>PI20_14</th>\n",
              "      <th>PI20_15</th>\n",
              "      <th>PI20_16</th>\n",
              "      <th>PI20_17</th>\n",
              "      <th>PI20_18</th>\n",
              "      <th>PI20_19</th>\n",
              "      <th>PI20_20</th>\n",
              "    </tr>\n",
              "  </thead>\n",
              "  <tbody>\n",
              "    <tr>\n",
              "      <th>0</th>\n",
              "      <td>910234</td>\n",
              "      <td>block_1</td>\n",
              "      <td>1</td>\n",
              "      <td>PI20</td>\n",
              "      <td>2</td>\n",
              "      <td>1</td>\n",
              "      <td>1</td>\n",
              "      <td>NaN</td>\n",
              "      <td>NaN</td>\n",
              "      <td>NaN</td>\n",
              "      <td>...</td>\n",
              "      <td>1.0</td>\n",
              "      <td>1.0</td>\n",
              "      <td>5.0</td>\n",
              "      <td>1.0</td>\n",
              "      <td>1.0</td>\n",
              "      <td>1.0</td>\n",
              "      <td>5.0</td>\n",
              "      <td>1.0</td>\n",
              "      <td>4.0</td>\n",
              "      <td>1.0</td>\n",
              "    </tr>\n",
              "    <tr>\n",
              "      <th>1</th>\n",
              "      <td>910234</td>\n",
              "      <td>block_1</td>\n",
              "      <td>1</td>\n",
              "      <td>Introduction</td>\n",
              "      <td>1</td>\n",
              "      <td>1</td>\n",
              "      <td>1</td>\n",
              "      <td>NaN</td>\n",
              "      <td>NaN</td>\n",
              "      <td>NaN</td>\n",
              "      <td>...</td>\n",
              "      <td>NaN</td>\n",
              "      <td>NaN</td>\n",
              "      <td>NaN</td>\n",
              "      <td>NaN</td>\n",
              "      <td>NaN</td>\n",
              "      <td>NaN</td>\n",
              "      <td>NaN</td>\n",
              "      <td>NaN</td>\n",
              "      <td>NaN</td>\n",
              "      <td>NaN</td>\n",
              "    </tr>\n",
              "    <tr>\n",
              "      <th>2</th>\n",
              "      <td>910234</td>\n",
              "      <td>block_1</td>\n",
              "      <td>1</td>\n",
              "      <td>AQ</td>\n",
              "      <td>3</td>\n",
              "      <td>1</td>\n",
              "      <td>1</td>\n",
              "      <td>NaN</td>\n",
              "      <td>NaN</td>\n",
              "      <td>NaN</td>\n",
              "      <td>...</td>\n",
              "      <td>NaN</td>\n",
              "      <td>NaN</td>\n",
              "      <td>NaN</td>\n",
              "      <td>NaN</td>\n",
              "      <td>NaN</td>\n",
              "      <td>NaN</td>\n",
              "      <td>NaN</td>\n",
              "      <td>NaN</td>\n",
              "      <td>NaN</td>\n",
              "      <td>NaN</td>\n",
              "    </tr>\n",
              "    <tr>\n",
              "      <th>3</th>\n",
              "      <td>910234</td>\n",
              "      <td>block_1</td>\n",
              "      <td>1</td>\n",
              "      <td>ARSR-v1.1.</td>\n",
              "      <td>4</td>\n",
              "      <td>1</td>\n",
              "      <td>1</td>\n",
              "      <td>NaN</td>\n",
              "      <td>NaN</td>\n",
              "      <td>NaN</td>\n",
              "      <td>...</td>\n",
              "      <td>NaN</td>\n",
              "      <td>NaN</td>\n",
              "      <td>NaN</td>\n",
              "      <td>NaN</td>\n",
              "      <td>NaN</td>\n",
              "      <td>NaN</td>\n",
              "      <td>NaN</td>\n",
              "      <td>NaN</td>\n",
              "      <td>NaN</td>\n",
              "      <td>NaN</td>\n",
              "    </tr>\n",
              "    <tr>\n",
              "      <th>4</th>\n",
              "      <td>910234</td>\n",
              "      <td>block_1</td>\n",
              "      <td>1</td>\n",
              "      <td>Edinburgh Handedness Inventory</td>\n",
              "      <td>5</td>\n",
              "      <td>1</td>\n",
              "      <td>1</td>\n",
              "      <td>False</td>\n",
              "      <td>False</td>\n",
              "      <td>False</td>\n",
              "      <td>...</td>\n",
              "      <td>NaN</td>\n",
              "      <td>NaN</td>\n",
              "      <td>NaN</td>\n",
              "      <td>NaN</td>\n",
              "      <td>NaN</td>\n",
              "      <td>NaN</td>\n",
              "      <td>NaN</td>\n",
              "      <td>NaN</td>\n",
              "      <td>NaN</td>\n",
              "      <td>NaN</td>\n",
              "    </tr>\n",
              "  </tbody>\n",
              "</table>\n",
              "<p>5 rows × 102 columns</p>\n",
              "</div>\n",
              "    <div class=\"colab-df-buttons\">\n",
              "\n",
              "  <div class=\"colab-df-container\">\n",
              "    <button class=\"colab-df-convert\" onclick=\"convertToInteractive('df-4430ed18-d5e8-4e44-a324-3bf908fd7c96')\"\n",
              "            title=\"Convert this dataframe to an interactive table.\"\n",
              "            style=\"display:none;\">\n",
              "\n",
              "  <svg xmlns=\"http://www.w3.org/2000/svg\" height=\"24px\" viewBox=\"0 -960 960 960\">\n",
              "    <path d=\"M120-120v-720h720v720H120Zm60-500h600v-160H180v160Zm220 220h160v-160H400v160Zm0 220h160v-160H400v160ZM180-400h160v-160H180v160Zm440 0h160v-160H620v160ZM180-180h160v-160H180v160Zm440 0h160v-160H620v160Z\"/>\n",
              "  </svg>\n",
              "    </button>\n",
              "\n",
              "  <style>\n",
              "    .colab-df-container {\n",
              "      display:flex;\n",
              "      gap: 12px;\n",
              "    }\n",
              "\n",
              "    .colab-df-convert {\n",
              "      background-color: #E8F0FE;\n",
              "      border: none;\n",
              "      border-radius: 50%;\n",
              "      cursor: pointer;\n",
              "      display: none;\n",
              "      fill: #1967D2;\n",
              "      height: 32px;\n",
              "      padding: 0 0 0 0;\n",
              "      width: 32px;\n",
              "    }\n",
              "\n",
              "    .colab-df-convert:hover {\n",
              "      background-color: #E2EBFA;\n",
              "      box-shadow: 0px 1px 2px rgba(60, 64, 67, 0.3), 0px 1px 3px 1px rgba(60, 64, 67, 0.15);\n",
              "      fill: #174EA6;\n",
              "    }\n",
              "\n",
              "    .colab-df-buttons div {\n",
              "      margin-bottom: 4px;\n",
              "    }\n",
              "\n",
              "    [theme=dark] .colab-df-convert {\n",
              "      background-color: #3B4455;\n",
              "      fill: #D2E3FC;\n",
              "    }\n",
              "\n",
              "    [theme=dark] .colab-df-convert:hover {\n",
              "      background-color: #434B5C;\n",
              "      box-shadow: 0px 1px 3px 1px rgba(0, 0, 0, 0.15);\n",
              "      filter: drop-shadow(0px 1px 2px rgba(0, 0, 0, 0.3));\n",
              "      fill: #FFFFFF;\n",
              "    }\n",
              "  </style>\n",
              "\n",
              "    <script>\n",
              "      const buttonEl =\n",
              "        document.querySelector('#df-4430ed18-d5e8-4e44-a324-3bf908fd7c96 button.colab-df-convert');\n",
              "      buttonEl.style.display =\n",
              "        google.colab.kernel.accessAllowed ? 'block' : 'none';\n",
              "\n",
              "      async function convertToInteractive(key) {\n",
              "        const element = document.querySelector('#df-4430ed18-d5e8-4e44-a324-3bf908fd7c96');\n",
              "        const dataTable =\n",
              "          await google.colab.kernel.invokeFunction('convertToInteractive',\n",
              "                                                    [key], {});\n",
              "        if (!dataTable) return;\n",
              "\n",
              "        const docLinkHtml = 'Like what you see? Visit the ' +\n",
              "          '<a target=\"_blank\" href=https://colab.research.google.com/notebooks/data_table.ipynb>data table notebook</a>'\n",
              "          + ' to learn more about interactive tables.';\n",
              "        element.innerHTML = '';\n",
              "        dataTable['output_type'] = 'display_data';\n",
              "        await google.colab.output.renderOutput(dataTable, element);\n",
              "        const docLink = document.createElement('div');\n",
              "        docLink.innerHTML = docLinkHtml;\n",
              "        element.appendChild(docLink);\n",
              "      }\n",
              "    </script>\n",
              "  </div>\n",
              "\n",
              "\n",
              "<div id=\"df-126a6f88-c6e0-46f3-bcaa-259848f4aa07\">\n",
              "  <button class=\"colab-df-quickchart\" onclick=\"quickchart('df-126a6f88-c6e0-46f3-bcaa-259848f4aa07')\"\n",
              "            title=\"Suggest charts\"\n",
              "            style=\"display:none;\">\n",
              "\n",
              "<svg xmlns=\"http://www.w3.org/2000/svg\" height=\"24px\"viewBox=\"0 0 24 24\"\n",
              "     width=\"24px\">\n",
              "    <g>\n",
              "        <path d=\"M19 3H5c-1.1 0-2 .9-2 2v14c0 1.1.9 2 2 2h14c1.1 0 2-.9 2-2V5c0-1.1-.9-2-2-2zM9 17H7v-7h2v7zm4 0h-2V7h2v10zm4 0h-2v-4h2v4z\"/>\n",
              "    </g>\n",
              "</svg>\n",
              "  </button>\n",
              "\n",
              "<style>\n",
              "  .colab-df-quickchart {\n",
              "      --bg-color: #E8F0FE;\n",
              "      --fill-color: #1967D2;\n",
              "      --hover-bg-color: #E2EBFA;\n",
              "      --hover-fill-color: #174EA6;\n",
              "      --disabled-fill-color: #AAA;\n",
              "      --disabled-bg-color: #DDD;\n",
              "  }\n",
              "\n",
              "  [theme=dark] .colab-df-quickchart {\n",
              "      --bg-color: #3B4455;\n",
              "      --fill-color: #D2E3FC;\n",
              "      --hover-bg-color: #434B5C;\n",
              "      --hover-fill-color: #FFFFFF;\n",
              "      --disabled-bg-color: #3B4455;\n",
              "      --disabled-fill-color: #666;\n",
              "  }\n",
              "\n",
              "  .colab-df-quickchart {\n",
              "    background-color: var(--bg-color);\n",
              "    border: none;\n",
              "    border-radius: 50%;\n",
              "    cursor: pointer;\n",
              "    display: none;\n",
              "    fill: var(--fill-color);\n",
              "    height: 32px;\n",
              "    padding: 0;\n",
              "    width: 32px;\n",
              "  }\n",
              "\n",
              "  .colab-df-quickchart:hover {\n",
              "    background-color: var(--hover-bg-color);\n",
              "    box-shadow: 0 1px 2px rgba(60, 64, 67, 0.3), 0 1px 3px 1px rgba(60, 64, 67, 0.15);\n",
              "    fill: var(--button-hover-fill-color);\n",
              "  }\n",
              "\n",
              "  .colab-df-quickchart-complete:disabled,\n",
              "  .colab-df-quickchart-complete:disabled:hover {\n",
              "    background-color: var(--disabled-bg-color);\n",
              "    fill: var(--disabled-fill-color);\n",
              "    box-shadow: none;\n",
              "  }\n",
              "\n",
              "  .colab-df-spinner {\n",
              "    border: 2px solid var(--fill-color);\n",
              "    border-color: transparent;\n",
              "    border-bottom-color: var(--fill-color);\n",
              "    animation:\n",
              "      spin 1s steps(1) infinite;\n",
              "  }\n",
              "\n",
              "  @keyframes spin {\n",
              "    0% {\n",
              "      border-color: transparent;\n",
              "      border-bottom-color: var(--fill-color);\n",
              "      border-left-color: var(--fill-color);\n",
              "    }\n",
              "    20% {\n",
              "      border-color: transparent;\n",
              "      border-left-color: var(--fill-color);\n",
              "      border-top-color: var(--fill-color);\n",
              "    }\n",
              "    30% {\n",
              "      border-color: transparent;\n",
              "      border-left-color: var(--fill-color);\n",
              "      border-top-color: var(--fill-color);\n",
              "      border-right-color: var(--fill-color);\n",
              "    }\n",
              "    40% {\n",
              "      border-color: transparent;\n",
              "      border-right-color: var(--fill-color);\n",
              "      border-top-color: var(--fill-color);\n",
              "    }\n",
              "    60% {\n",
              "      border-color: transparent;\n",
              "      border-right-color: var(--fill-color);\n",
              "    }\n",
              "    80% {\n",
              "      border-color: transparent;\n",
              "      border-right-color: var(--fill-color);\n",
              "      border-bottom-color: var(--fill-color);\n",
              "    }\n",
              "    90% {\n",
              "      border-color: transparent;\n",
              "      border-bottom-color: var(--fill-color);\n",
              "    }\n",
              "  }\n",
              "</style>\n",
              "\n",
              "  <script>\n",
              "    async function quickchart(key) {\n",
              "      const quickchartButtonEl =\n",
              "        document.querySelector('#' + key + ' button');\n",
              "      quickchartButtonEl.disabled = true;  // To prevent multiple clicks.\n",
              "      quickchartButtonEl.classList.add('colab-df-spinner');\n",
              "      try {\n",
              "        const charts = await google.colab.kernel.invokeFunction(\n",
              "            'suggestCharts', [key], {});\n",
              "      } catch (error) {\n",
              "        console.error('Error during call to suggestCharts:', error);\n",
              "      }\n",
              "      quickchartButtonEl.classList.remove('colab-df-spinner');\n",
              "      quickchartButtonEl.classList.add('colab-df-quickchart-complete');\n",
              "    }\n",
              "    (() => {\n",
              "      let quickchartButtonEl =\n",
              "        document.querySelector('#df-126a6f88-c6e0-46f3-bcaa-259848f4aa07 button');\n",
              "      quickchartButtonEl.style.display =\n",
              "        google.colab.kernel.accessAllowed ? 'block' : 'none';\n",
              "    })();\n",
              "  </script>\n",
              "</div>\n",
              "    </div>\n",
              "  </div>\n"
            ]
          },
          "metadata": {},
          "execution_count": 8
        }
      ]
    },
    {
      "cell_type": "code",
      "source": [
        "def PI_test(data):\n",
        "  pi_subset = data[['PI20_01', 'PI20_02', 'PI20_03', 'PI20_04', 'PI20_05',\n",
        "       'PI20_06', 'PI20_07', 'PI20_08', 'PI20_09', 'PI20_10', 'PI20_11',\n",
        "       'PI20_12', 'PI20_13', 'PI20_14', 'PI20_15', 'PI20_16', 'PI20_17',\n",
        "       'PI20_18', 'PI20_19', 'PI20_20']]\n",
        "  values = pi_subset.values[0].tolist()\n",
        "\n",
        "\n"
      ],
      "metadata": {
        "id": "DJ2p_73lmSER"
      },
      "execution_count": null,
      "outputs": []
    },
    {
      "cell_type": "code",
      "source": [
        "values"
      ],
      "metadata": {
        "colab": {
          "base_uri": "https://localhost:8080/"
        },
        "id": "EdG5bOjTmmga",
        "outputId": "888cccac-19d9-4c66-dc35-9e9d122cbcc1"
      },
      "execution_count": 26,
      "outputs": [
        {
          "output_type": "execute_result",
          "data": {
            "text/plain": [
              "[1.0,\n",
              " 1.0,\n",
              " 2.0,\n",
              " 1.0,\n",
              " 1.0,\n",
              " 1.0,\n",
              " 1.0,\n",
              " 5.0,\n",
              " 4.0,\n",
              " 2.0,\n",
              " 1.0,\n",
              " 1.0,\n",
              " 5.0,\n",
              " 1.0,\n",
              " 1.0,\n",
              " 1.0,\n",
              " 5.0,\n",
              " 1.0,\n",
              " 4.0,\n",
              " 1.0]"
            ]
          },
          "metadata": {},
          "execution_count": 26
        }
      ]
    },
    {
      "cell_type": "code",
      "source": [
        "data1.columns[:50]"
      ],
      "metadata": {
        "colab": {
          "base_uri": "https://localhost:8080/"
        },
        "id": "DdNBoXy9loSB",
        "outputId": "fe711a19-800a-4653-af8a-22636166ca0f"
      },
      "execution_count": 10,
      "outputs": [
        {
          "output_type": "execute_result",
          "data": {
            "text/plain": [
              "Index(['Rec_Session_Id', 'Block_Name', 'Block_Nr', 'Task_Name', 'Task_Nr',\n",
              "       'Trial_Id', 'Trial_Nr', '01_Mutter', '02_Vater', '03_Großeltern',\n",
              "       '04_Schwester', '05_Bruder', '06_Kinder', '07_Nein', '08_nicht_sicher',\n",
              "       'AQ_example1', 'AQ_example2', 'AQ_example3', 'AQ_example4', 'AQ_Q01',\n",
              "       'AQ_Q02', 'AQ_Q03', 'AQ_Q04', 'AQ_Q05', 'AQ_Q06', 'AQ_Q07', 'AQ_Q08',\n",
              "       'AQ_Q09', 'AQ_Q10', 'AQ_Q11', 'AQ_Q12', 'AQ_Q13', 'AQ_Q14', 'AQ_Q15',\n",
              "       'AQ_Q16', 'AQ_Q17', 'AQ_Q18', 'AQ_Q19', 'AQ_Q20', 'AQ_Q21', 'AQ_Q22',\n",
              "       'AQ_Q23', 'AQ_Q24', 'AQ_Q25', 'AQ_Q26', 'AQ_Q27', 'AQ_Q28', 'AQ_Q29',\n",
              "       'AQ_Q30', 'AQ_Q31'],\n",
              "      dtype='object')"
            ]
          },
          "metadata": {},
          "execution_count": 10
        }
      ]
    },
    {
      "cell_type": "code",
      "source": [
        "data1.columns[50:]"
      ],
      "metadata": {
        "colab": {
          "base_uri": "https://localhost:8080/"
        },
        "id": "TE6t1ycHltco",
        "outputId": "23bf5b85-2b34-4fb9-be65-30fc03374027"
      },
      "execution_count": 11,
      "outputs": [
        {
          "output_type": "execute_result",
          "data": {
            "text/plain": [
              "Index(['AQ_Q32', 'AQ_Q33', 'AQ_Q34', 'AQ_Q35', 'AQ_Q36', 'AQ_Q37', 'AQ_Q38',\n",
              "       'AQ_Q39', 'AQ_Q40', 'AQ_Q41', 'AQ_Q42', 'AQ_Q43', 'AQ_Q44', 'AQ_Q45',\n",
              "       'AQ_Q46', 'AQ_Q47', 'AQ_Q48', 'AQ_Q49', 'AQ_Q50', 'ASRS_Q1', 'ASRS_Q2',\n",
              "       'ASRS_Q3', 'ASRS_Q4', 'ASRS_Q5', 'ASRS_Q6', 'Condition_Id', 'GazeX',\n",
              "       'GazeY', 'handedness_01', 'handedness_02', 'handedness_03',\n",
              "       'handedness_04', 'PI20_01', 'PI20_02', 'PI20_03', 'PI20_04', 'PI20_05',\n",
              "       'PI20_06', 'PI20_07', 'PI20_08', 'PI20_09', 'PI20_10', 'PI20_11',\n",
              "       'PI20_12', 'PI20_13', 'PI20_14', 'PI20_15', 'PI20_16', 'PI20_17',\n",
              "       'PI20_18', 'PI20_19', 'PI20_20'],\n",
              "      dtype='object')"
            ]
          },
          "metadata": {},
          "execution_count": 11
        }
      ]
    },
    {
      "cell_type": "code",
      "source": [],
      "metadata": {
        "id": "MdR0vuM6lxGZ"
      },
      "execution_count": null,
      "outputs": []
    }
  ]
}