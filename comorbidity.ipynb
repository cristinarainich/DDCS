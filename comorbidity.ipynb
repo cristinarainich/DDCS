{
  "nbformat": 4,
  "nbformat_minor": 0,
  "metadata": {
    "colab": {
      "provenance": [],
      "authorship_tag": "ABX9TyMi3r4hVzfqhMwMwRo4nr7f",
      "include_colab_link": true
    },
    "kernelspec": {
      "name": "python3",
      "display_name": "Python 3"
    },
    "language_info": {
      "name": "python"
    }
  },
  "cells": [
    {
      "cell_type": "markdown",
      "metadata": {
        "id": "view-in-github",
        "colab_type": "text"
      },
      "source": [
        "<a href=\"https://colab.research.google.com/github/cristinarainich/DDCS/blob/main/comorbidity.ipynb\" target=\"_parent\"><img src=\"https://colab.research.google.com/assets/colab-badge.svg\" alt=\"Open In Colab\"/></a>"
      ]
    },
    {
      "cell_type": "code",
      "execution_count": 2,
      "metadata": {
        "id": "YNuOrCu7iah8"
      },
      "outputs": [],
      "source": [
        "import pandas as pd\n",
        "import numpy as np\n",
        "from pathlib import Path\n",
        "import pylab as pl\n",
        "import seaborn as sns\n",
        "import statsmodels.api as sm\n",
        "from statsmodels.formula.api import ols\n",
        "import scipy.stats as stats"
      ]
    },
    {
      "cell_type": "code",
      "source": [
        "from google.colab import drive\n",
        "drive.mount('/content/gdrive')"
      ],
      "metadata": {
        "colab": {
          "base_uri": "https://localhost:8080/"
        },
        "id": "Rqr46cK3ijBl",
        "outputId": "c3a0a111-fb6e-4d95-af18-b01976c56021"
      },
      "execution_count": 3,
      "outputs": [
        {
          "output_type": "stream",
          "name": "stdout",
          "text": [
            "Mounted at /content/gdrive\n"
          ]
        }
      ]
    },
    {
      "cell_type": "code",
      "source": [
        "working_path = Path('/content/gdrive/MyDrive/KKNV/comorbidity')"
      ],
      "metadata": {
        "id": "2HYbbobaiw_8"
      },
      "execution_count": 4,
      "outputs": []
    },
    {
      "cell_type": "code",
      "source": [
        "!ls /content/gdrive/MyDrive/KKNV/comorbidity"
      ],
      "metadata": {
        "colab": {
          "base_uri": "https://localhost:8080/"
        },
        "id": "BIv4ceOFixK0",
        "outputId": "a85eaf34-8446-41d9-9f9c-2d05fe5081d9"
      },
      "execution_count": 5,
      "outputs": [
        {
          "output_type": "stream",
          "name": "stdout",
          "text": [
            "data_1.csv  data_2.csv\n"
          ]
        }
      ]
    },
    {
      "cell_type": "code",
      "source": [
        "data1 = pd.read_csv(\n",
        "    working_path.joinpath('data_1.csv'),\n",
        "    index_col=None\n",
        ")\n",
        "data2 = pd.read_csv(\n",
        "    working_path.joinpath('data_2.csv'),\n",
        "    index_col=None\n",
        ")"
      ],
      "metadata": {
        "id": "H6HRNwNajjMc"
      },
      "execution_count": 6,
      "outputs": []
    },
    {
      "cell_type": "code",
      "source": [
        "## function to calculate the results on prosopagnosia test\n",
        "def PI_test(data):\n",
        "  pi_subset = data[['PI20_01', 'PI20_02', 'PI20_03', 'PI20_04', 'PI20_05',\n",
        "       'PI20_06', 'PI20_07', 'PI20_08', 'PI20_09', 'PI20_10', 'PI20_11',\n",
        "       'PI20_12', 'PI20_13', 'PI20_14', 'PI20_15', 'PI20_16', 'PI20_17',\n",
        "       'PI20_18', 'PI20_19', 'PI20_20']]\n",
        "  tasks = data['Task_Name'].values.tolist()\n",
        "  num = tasks.index('PI20')\n",
        "\n",
        "  values = pi_subset.values[num].tolist()\n",
        "  values = [int(i) for i in values]\n",
        "  positions = [7, 8, 12, 16, 18]\n",
        "  for i in positions:\n",
        "    new_res = 6 - values[i]\n",
        "    values[i] = new_res\n",
        "\n",
        "  final_score = 0\n",
        "  for each in values:\n",
        "    final_score = final_score + each\n",
        "  if 65 <= final_score <= 74:\n",
        "    diagnosis = 'Mild prosopagnosia'\n",
        "  elif 74 < final_score <= 84:\n",
        "    diagnosis = \"Moderate prosopagnosia\"\n",
        "  elif final_score > 84:\n",
        "    diagnosis = 'Severe prosopagnosia'\n",
        "  else:\n",
        "    diagnosis = 'No prosopagnosia'\n",
        "\n",
        "  return final_score, diagnosis\n",
        "\n",
        "\n",
        "## function to calculate the results on autism test\n",
        "def AQ_test(data):\n",
        "  aq_subset = data[['AQ_Q01', 'AQ_Q02', 'AQ_Q03', 'AQ_Q04', 'AQ_Q05',\n",
        "        'AQ_Q06', 'AQ_Q07', 'AQ_Q08', 'AQ_Q09', 'AQ_Q10', 'AQ_Q11', 'AQ_Q12',\n",
        "        'AQ_Q13', 'AQ_Q14', 'AQ_Q15', 'AQ_Q16', 'AQ_Q17', 'AQ_Q18', 'AQ_Q19',\n",
        "        'AQ_Q20', 'AQ_Q21', 'AQ_Q22', 'AQ_Q23', 'AQ_Q24', 'AQ_Q25', 'AQ_Q26',\n",
        "        'AQ_Q27', 'AQ_Q28', 'AQ_Q29', 'AQ_Q30', 'AQ_Q31', 'AQ_Q32', 'AQ_Q33',\n",
        "        'AQ_Q34', 'AQ_Q35', 'AQ_Q36', 'AQ_Q37', 'AQ_Q38', 'AQ_Q39', 'AQ_Q40',\n",
        "        'AQ_Q41', 'AQ_Q42', 'AQ_Q43', 'AQ_Q44', 'AQ_Q45', 'AQ_Q46', 'AQ_Q47',\n",
        "        'AQ_Q48', 'AQ_Q49', 'AQ_Q50']]\n",
        "  tasks = data['Task_Name'].values.tolist()\n",
        "  num = tasks.index('AQ')\n",
        "\n",
        "  values = aq_subset.values[num].tolist()\n",
        "  values = [int(i) for i in values]\n",
        "\n",
        "  positions1 = [1, 3, 8, 10, 11, 14, 15, 17, 24, 25, 27, 28, 29, 30, 31, 32, 34, 36, 37, 38, 40, 44, 47, 48, 49, 50]\n",
        "  positions2 = [2, 4, 5, 6, 7, 9, 12, 13, 16, 18, 19, 20, 21, 22, 23, 26, 33, 35, 39, 41, 42, 43, 45, 46]\n",
        "  for j in range(0, len(positions1)):\n",
        "    positions1[j] = positions1[j] - 1\n",
        "  for j in range(0, len(positions2)):\n",
        "    positions2[j] = positions2[j] - 1\n",
        "\n",
        "  for i in range(0, 49):\n",
        "    if i in positions1:\n",
        "      if values[i] == 3 or values[i] == 4:\n",
        "        res = 1\n",
        "      elif values[i] == 1 or values[i] == 2:\n",
        "        res = 0\n",
        "    elif i in positions2:\n",
        "      if values[i] == 3 or values[i] == 4:\n",
        "        res = 0\n",
        "      elif values[i] == 1 or values[i] == 2:\n",
        "        res = 1\n",
        "    values[i] = res\n",
        "\n",
        "  final_score = 0\n",
        "  for each in values:\n",
        "    final_score = final_score + each\n",
        "  if final_score >= 32:\n",
        "    diagnosis = 'Autistic traits'\n",
        "  else:\n",
        "    diagnosis = 'No autistic traits'\n",
        "\n",
        "  return final_score, diagnosis\n",
        "\n",
        "## function to calculate the results on ADHD test\n",
        "def ASR_test(data):\n",
        "  asr_subset = data[['ASRS_Q1', 'ASRS_Q2', 'ASRS_Q3', 'ASRS_Q4',\n",
        "                     'ASRS_Q5', 'ASRS_Q6']]\n",
        "  tasks = data['Task_Name'].values.tolist()\n",
        "  num = tasks.index('ARSR-v1.1.')\n",
        "\n",
        "  values = asr_subset.values[num].tolist()\n",
        "  values = [int(i) for i in values]\n",
        "\n",
        "  for i in range(0, len(values)):\n",
        "    if i in [0, 1, 2]:\n",
        "      if values[i] == 3 or values[i] == 4 or values[i] == 5:\n",
        "        res = 1\n",
        "      else:\n",
        "        res = 0\n",
        "    elif i in [3, 4, 5]:\n",
        "      if values[i] == 4 or values[i] == 5:\n",
        "        res = 1\n",
        "      else:\n",
        "        res = 0\n",
        "    values[i] = res\n",
        "\n",
        "  final_score = 0\n",
        "  for each in values:\n",
        "    final_score = final_score + each\n",
        "  if final_score >= 4:\n",
        "    diagnosis = 'ADHD symptoms'\n",
        "  else:\n",
        "    diagnosis = 'No ADHD traits'\n",
        "\n",
        "  return final_score, diagnosis\n",
        "\n",
        "\n",
        "## function to calculate the results on ADHD test\n",
        "def EHI_test(data):\n",
        "  ehi_subset = data[['handedness_01', 'handedness_02', 'handedness_03',\n",
        "       'handedness_04']]\n",
        "  tasks = data['Task_Name'].values.tolist()\n",
        "  num = tasks.index('Edinburgh Handedness Inventory')\n",
        "\n",
        "  values = ehi_subset.values[num].tolist()\n",
        "  values = [int(i) for i in values]\n",
        "\n",
        "  for i in range(0, len(values)):\n",
        "    if values[i] == 5:\n",
        "      res = 100\n",
        "    elif values[i] == 4:\n",
        "      res = 50\n",
        "    elif values[i] == 3:\n",
        "      res = 0\n",
        "    elif values[i] == 2:\n",
        "      res = -50\n",
        "    elif values[i] == 1:\n",
        "      res = -100\n",
        "    values[i] = res\n",
        "\n",
        "  final_score = 0\n",
        "  for each in values:\n",
        "    final_score = final_score + each\n",
        "  final_score = final_score / 4\n",
        "  if -100 <= final_score <= -61:\n",
        "    diagnosis = 'left-handed'\n",
        "  elif -60 <= final_score <= 60:\n",
        "    diagnosis = 'mixed'\n",
        "  elif 61 <= final_score <= 100:\n",
        "    diagnosis = 'right-handed'\n",
        "\n",
        "  return final_score, diagnosis"
      ],
      "metadata": {
        "id": "DJ2p_73lmSER"
      },
      "execution_count": 52,
      "outputs": []
    },
    {
      "cell_type": "code",
      "source": [
        "# insert the file name\n",
        "data = data2\n",
        "print(PI_test(data))\n",
        "print(AQ_test(data))\n",
        "print(ASR_test(data))\n",
        "print(EHI_test(data))"
      ],
      "metadata": {
        "id": "PuUr3dKOFFBR",
        "outputId": "b77ff8ea-10e2-4ca2-9405-e3dc2df9ed0f",
        "colab": {
          "base_uri": "https://localhost:8080/"
        }
      },
      "execution_count": 54,
      "outputs": [
        {
          "output_type": "stream",
          "name": "stdout",
          "text": [
            "(50, 'No prosopagnosia')\n",
            "(17, 'No autistic traits')\n",
            "(2, 'No ADHD traits')\n",
            "(100.0, 'right-handed')\n"
          ]
        }
      ]
    },
    {
      "cell_type": "code",
      "source": [],
      "metadata": {
        "id": "E9Ka4blRFiX0"
      },
      "execution_count": null,
      "outputs": []
    }
  ]
}