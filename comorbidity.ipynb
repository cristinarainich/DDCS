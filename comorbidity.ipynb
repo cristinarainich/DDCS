{
  "nbformat": 4,
  "nbformat_minor": 0,
  "metadata": {
    "colab": {
      "provenance": [],
      "authorship_tag": "ABX9TyMWbU1P9dCijpEp80mWl+e0",
      "include_colab_link": true
    },
    "kernelspec": {
      "name": "python3",
      "display_name": "Python 3"
    },
    "language_info": {
      "name": "python"
    }
  },
  "cells": [
    {
      "cell_type": "markdown",
      "metadata": {
        "id": "view-in-github",
        "colab_type": "text"
      },
      "source": [
        "<a href=\"https://colab.research.google.com/github/cristinarainich/DDCS/blob/main/comorbidity.ipynb\" target=\"_parent\"><img src=\"https://colab.research.google.com/assets/colab-badge.svg\" alt=\"Open In Colab\"/></a>"
      ]
    },
    {
      "cell_type": "code",
      "execution_count": null,
      "metadata": {
        "id": "YNuOrCu7iah8"
      },
      "outputs": [],
      "source": [
        "import pandas as pd\n",
        "import numpy as np\n",
        "from pathlib import Path\n",
        "import pylab as pl\n",
        "import seaborn as sns\n",
        "import statsmodels.api as sm\n",
        "from statsmodels.formula.api import ols\n",
        "import scipy.stats as stats"
      ]
    },
    {
      "cell_type": "code",
      "source": [
        "from google.colab import drive\n",
        "drive.mount('/content/gdrive')"
      ],
      "metadata": {
        "colab": {
          "base_uri": "https://localhost:8080/"
        },
        "id": "Rqr46cK3ijBl",
        "outputId": "0919b1ec-f597-4e73-c10b-2adcb0317747"
      },
      "execution_count": null,
      "outputs": [
        {
          "output_type": "stream",
          "name": "stdout",
          "text": [
            "Mounted at /content/gdrive\n"
          ]
        }
      ]
    },
    {
      "cell_type": "code",
      "source": [
        "working_path = Path('/content/gdrive/MyDrive/KKNV/comorbidity')"
      ],
      "metadata": {
        "id": "2HYbbobaiw_8"
      },
      "execution_count": null,
      "outputs": []
    },
    {
      "cell_type": "code",
      "source": [
        "!ls /content/gdrive/MyDrive/KKNV/comorbidity"
      ],
      "metadata": {
        "colab": {
          "base_uri": "https://localhost:8080/"
        },
        "id": "BIv4ceOFixK0",
        "outputId": "311a85e8-b0eb-44a4-c659-ab5da7822b90"
      },
      "execution_count": null,
      "outputs": [
        {
          "output_type": "stream",
          "name": "stdout",
          "text": [
            "data100.csv   data135.csv  data175.csv\tdata23.csv  data48.csv\tdata78.csv\n",
            "data101.csv   data136.csv  data17.csv\tdata24.csv  data49.csv\tdata79.csv\n",
            "data102.csv   data139.csv  data183.csv\tdata25.csv  data51.csv\tdata7.csv\n",
            "data103.csv   data13.csv   data184.csv\tdata27.csv  data52.csv\tdata80.csv\n",
            "data104.csv   data140.csv  data187.csv\tdata28.csv  data54.csv\tdata81.csv\n",
            "data106.csv   data141.csv  data189.csv\tdata_2.csv  data55.csv\tdata82.csv\n",
            "data109a.csv  data142.csv  data18.csv\tdata33.csv  data56.csv\tdata83.csv\n",
            "data109.csv   data143.csv  data192.csv\tdata34.csv  data57.csv\tdata86.csv\n",
            "data110.csv   data145.csv  data193.csv\tdata36.csv  data58.csv\tdata87.csv\n",
            "data111.csv   data149.csv  data196.csv\tdata38.csv  data59.csv\tdata88.csv\n",
            "data112.csv   data153.csv  data_1.csv\tdata39.csv  data60.csv\tdata89.csv\n",
            "data113.csv   data155.csv  data202.csv\tdata3.csv   data62.csv\tdata92.csv\n",
            "data116.csv   data157.csv  data204.csv\tdata40.csv  data65.csv\tdata93.csv\n",
            "data118.csv   data158.csv  data205.csv\tdata41.csv  data67.csv\tdata96.csv\n",
            "data119.csv   data159.csv  data20.csv\tdata42.csv  data68.csv\tdata97.csv\n",
            "data120.csv   data164.csv  data216.csv\tdata43.csv  data69.csv\tdata98.csv\n",
            "data125.csv   data167.csv  data21.csv\tdata44.csv  data72.csv\tdata_c103.csv\n",
            "data126.csv   data168.csv  data221.csv\tdata45.csv  data74.csv\tdatam004.csv\n",
            "data127.csv   data169.csv  data222.csv\tdata46.csv  data75.csv\tdatam005.csv\n",
            "data131.csv   data173.csv  data223.csv\tdata47.csv  data76.csv\tm002.csv\n"
          ]
        }
      ]
    },
    {
      "cell_type": "code",
      "source": [
        "## function to calculate the results on prosopagnosia test\n",
        "def PI_test(data):\n",
        "  pi_subset = data[['PI20_01', 'PI20_02', 'PI20_03', 'PI20_04', 'PI20_05',\n",
        "       'PI20_06', 'PI20_07', 'PI20_08', 'PI20_09', 'PI20_10', 'PI20_11',\n",
        "       'PI20_12', 'PI20_13', 'PI20_14', 'PI20_15', 'PI20_16', 'PI20_17',\n",
        "       'PI20_18', 'PI20_19', 'PI20_20']]\n",
        "  tasks = data['Task_Name'].values.tolist()\n",
        "  num = tasks.index('PI20')\n",
        "\n",
        "  values = pi_subset.values[num].tolist()\n",
        "  values = [int(i) for i in values]\n",
        "  positions = [7, 8, 12, 16, 18]\n",
        "  for i in positions:\n",
        "    new_res = 6 - values[i]\n",
        "    values[i] = new_res\n",
        "\n",
        "  final_score = 0\n",
        "  for each in values:\n",
        "    final_score = final_score + each\n",
        "  if 65 <= final_score <= 74:\n",
        "    diagnosis = 'Mild prosopagnosia'\n",
        "  elif 74 < final_score <= 84:\n",
        "    diagnosis = \"Moderate prosopagnosia\"\n",
        "  elif final_score > 84:\n",
        "    diagnosis = 'Severe prosopagnosia'\n",
        "  else:\n",
        "    diagnosis = 'No prosopagnosia'\n",
        "\n",
        "  return final_score, diagnosis\n",
        "\n",
        "\n",
        "## function to calculate the results on autism test\n",
        "def AQ_test(data):\n",
        "  aq_subset = data[['AQ_Q01', 'AQ_Q02', 'AQ_Q03', 'AQ_Q04', 'AQ_Q05',\n",
        "        'AQ_Q06', 'AQ_Q07', 'AQ_Q08', 'AQ_Q09', 'AQ_Q10', 'AQ_Q11', 'AQ_Q12',\n",
        "        'AQ_Q13', 'AQ_Q14', 'AQ_Q15', 'AQ_Q16', 'AQ_Q17', 'AQ_Q18', 'AQ_Q19',\n",
        "        'AQ_Q20', 'AQ_Q21', 'AQ_Q22', 'AQ_Q23', 'AQ_Q24', 'AQ_Q25', 'AQ_Q26',\n",
        "        'AQ_Q27', 'AQ_Q28', 'AQ_Q29', 'AQ_Q30', 'AQ_Q31', 'AQ_Q32', 'AQ_Q33',\n",
        "        'AQ_Q34', 'AQ_Q35', 'AQ_Q36', 'AQ_Q37', 'AQ_Q38', 'AQ_Q39', 'AQ_Q40',\n",
        "        'AQ_Q41', 'AQ_Q42', 'AQ_Q43', 'AQ_Q44', 'AQ_Q45', 'AQ_Q46', 'AQ_Q47',\n",
        "        'AQ_Q48', 'AQ_Q49', 'AQ_Q50']]\n",
        "  tasks = data['Task_Name'].values.tolist()\n",
        "  num = tasks.index('AQ')\n",
        "\n",
        "  values = aq_subset.values[num].tolist()\n",
        "  values = [int(i) for i in values]\n",
        "\n",
        "  positions1 = [1, 3, 8, 10, 11, 14, 15, 17, 24, 25, 27, 28, 29, 30, 31, 32, 34, 36, 37, 38, 40, 44, 47, 48, 49, 50]\n",
        "  positions2 = [2, 4, 5, 6, 7, 9, 12, 13, 16, 18, 19, 20, 21, 22, 23, 26, 33, 35, 39, 41, 42, 43, 45, 46]\n",
        "  for j in range(0, len(positions1)):\n",
        "    positions1[j] = positions1[j] - 1\n",
        "  for j in range(0, len(positions2)):\n",
        "    positions2[j] = positions2[j] - 1\n",
        "\n",
        "  for i in range(0, 49):\n",
        "    if i in positions1:\n",
        "      if values[i] == 3 or values[i] == 4:\n",
        "        res = 1\n",
        "      elif values[i] == 1 or values[i] == 2:\n",
        "        res = 0\n",
        "    elif i in positions2:\n",
        "      if values[i] == 3 or values[i] == 4:\n",
        "        res = 0\n",
        "      elif values[i] == 1 or values[i] == 2:\n",
        "        res = 1\n",
        "    values[i] = res\n",
        "\n",
        "  final_score = 0\n",
        "  for each in values:\n",
        "    final_score = final_score + each\n",
        "  if final_score >= 32:\n",
        "    diagnosis = 'Autistic traits'\n",
        "  else:\n",
        "    diagnosis = 'No autistic traits'\n",
        "\n",
        "  return final_score, diagnosis\n",
        "\n",
        "## function to calculate the results on ADHD test\n",
        "def ASR_test(data):\n",
        "  asr_subset = data[['ASRS_Q1', 'ASRS_Q2', 'ASRS_Q3', 'ASRS_Q4',\n",
        "                     'ASRS_Q5', 'ASRS_Q6']]\n",
        "  tasks = data['Task_Name'].values.tolist()\n",
        "  num = tasks.index('ARSR-v1.1.')\n",
        "\n",
        "  values = asr_subset.values[num].tolist()\n",
        "  values = [int(i) for i in values]\n",
        "\n",
        "  for i in range(0, len(values)):\n",
        "    if i in [0, 1, 2]:\n",
        "      if values[i] == 3 or values[i] == 4 or values[i] == 5:\n",
        "        res = 1\n",
        "      else:\n",
        "        res = 0\n",
        "    elif i in [3, 4, 5]:\n",
        "      if values[i] == 4 or values[i] == 5:\n",
        "        res = 1\n",
        "      else:\n",
        "        res = 0\n",
        "    values[i] = res\n",
        "\n",
        "  final_score = 0\n",
        "  for each in values:\n",
        "    final_score = final_score + each\n",
        "  if final_score >= 4:\n",
        "    diagnosis = 'ADHD symptoms'\n",
        "  else:\n",
        "    diagnosis = 'No ADHD traits'\n",
        "\n",
        "  return final_score, diagnosis\n",
        "\n",
        "\n",
        "## function to calculate the results on ADHD test\n",
        "def EHI_test(data):\n",
        "  ehi_subset = data[['handedness_01', 'handedness_02', 'handedness_03',\n",
        "       'handedness_04']]\n",
        "  tasks = data['Task_Name'].values.tolist()\n",
        "  num = tasks.index('Edinburgh Handedness Inventory')\n",
        "\n",
        "  values = ehi_subset.values[num].tolist()\n",
        "  values = [int(i) for i in values]\n",
        "\n",
        "  for i in range(0, len(values)):\n",
        "    if values[i] == 5:\n",
        "      res = 100\n",
        "    elif values[i] == 4:\n",
        "      res = 50\n",
        "    elif values[i] == 3:\n",
        "      res = 0\n",
        "    elif values[i] == 2:\n",
        "      res = -50\n",
        "    elif values[i] == 1:\n",
        "      res = -100\n",
        "    values[i] = res\n",
        "\n",
        "  final_score = 0\n",
        "  for each in values:\n",
        "    final_score = final_score + each\n",
        "  final_score = final_score / 4\n",
        "  if -100 <= final_score <= -61:\n",
        "    diagnosis = 'left-handed'\n",
        "  elif -60 <= final_score <= 60:\n",
        "    diagnosis = 'mixed'\n",
        "  elif 61 <= final_score <= 100:\n",
        "    diagnosis = 'right-handed'\n",
        "\n",
        "  return final_score, diagnosis"
      ],
      "metadata": {
        "id": "DJ2p_73lmSER"
      },
      "execution_count": null,
      "outputs": []
    },
    {
      "cell_type": "code",
      "source": [
        "def run_all_tests(data_number):\n",
        "  file_name = f'data{data_number}.csv'\n",
        "  data_path = working_path / file_name\n",
        "\n",
        "  if not data_path.exists():\n",
        "        print(f\"File {file_name} not found.\")\n",
        "        return\n",
        "\n",
        "  data = pd.read_csv(data_path, index_col=None)\n",
        "\n",
        "\n",
        "  print(f\"\\nRunning tests on {file_name}:\\n\")\n",
        "  print(\"PI:\", PI_test(data))\n",
        "  print(\"AQ:\", AQ_test(data))\n",
        "  print(\"ASR:\", ASR_test(data))\n",
        "  print(\"EHI:\", EHI_test(data))"
      ],
      "metadata": {
        "id": "BxRlZ1wTPR5i"
      },
      "execution_count": null,
      "outputs": []
    },
    {
      "cell_type": "code",
      "source": [
        "data_points = [216, 221, 205, 222, 223] # insert the labvanced IDs in this line\n",
        "for number in data_points:\n",
        "  run_all_tests(number)"
      ],
      "metadata": {
        "id": "4UTkpKQnyvgn",
        "colab": {
          "base_uri": "https://localhost:8080/"
        },
        "outputId": "d42a696d-c341-483b-b06c-904da060103a"
      },
      "execution_count": null,
      "outputs": [
        {
          "output_type": "stream",
          "name": "stdout",
          "text": [
            "\n",
            "Running tests on data216.csv:\n",
            "\n",
            "PI: (54, 'No prosopagnosia')\n",
            "AQ: (28, 'No autistic traits')\n",
            "ASR: (4, 'ADHD symptoms')\n",
            "EHI: (87.5, 'right-handed')\n",
            "\n",
            "Running tests on data221.csv:\n",
            "\n",
            "PI: (28, 'No prosopagnosia')\n",
            "AQ: (20, 'No autistic traits')\n",
            "ASR: (0, 'No ADHD traits')\n",
            "EHI: (100.0, 'right-handed')\n",
            "\n",
            "Running tests on data205.csv:\n",
            "\n",
            "PI: (30, 'No prosopagnosia')\n",
            "AQ: (17, 'No autistic traits')\n",
            "ASR: (0, 'No ADHD traits')\n",
            "EHI: (87.5, 'right-handed')\n",
            "\n",
            "Running tests on data222.csv:\n",
            "\n",
            "PI: (41, 'No prosopagnosia')\n",
            "AQ: (27, 'No autistic traits')\n",
            "ASR: (2, 'No ADHD traits')\n",
            "EHI: (62.5, 'right-handed')\n",
            "\n",
            "Running tests on data223.csv:\n",
            "\n",
            "PI: (62, 'No prosopagnosia')\n",
            "AQ: (12, 'No autistic traits')\n",
            "ASR: (2, 'No ADHD traits')\n",
            "EHI: (62.5, 'right-handed')\n"
          ]
        }
      ]
    },
    {
      "cell_type": "code",
      "source": [],
      "metadata": {
        "id": "E9Ka4blRFiX0"
      },
      "execution_count": null,
      "outputs": []
    }
  ]
}