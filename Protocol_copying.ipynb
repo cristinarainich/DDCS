{
  "nbformat": 4,
  "nbformat_minor": 0,
  "metadata": {
    "colab": {
      "provenance": [],
      "authorship_tag": "ABX9TyNa+PG7+FvUAa5tIr3OQ98R",
      "include_colab_link": true
    },
    "kernelspec": {
      "name": "python3",
      "display_name": "Python 3"
    },
    "language_info": {
      "name": "python"
    }
  },
  "cells": [
    {
      "cell_type": "markdown",
      "metadata": {
        "id": "view-in-github",
        "colab_type": "text"
      },
      "source": [
        "<a href=\"https://colab.research.google.com/github/cristinarainich/DDCS/blob/main/Protocol_copying.ipynb\" target=\"_parent\"><img src=\"https://colab.research.google.com/assets/colab-badge.svg\" alt=\"Open In Colab\"/></a>"
      ]
    },
    {
      "cell_type": "code",
      "execution_count": 1,
      "metadata": {
        "colab": {
          "base_uri": "https://localhost:8080/"
        },
        "id": "rLVOlXgbvgqq",
        "outputId": "9e6175fa-ee6b-4170-fd56-8c30fe71d657"
      },
      "outputs": [
        {
          "output_type": "stream",
          "name": "stdout",
          "text": [
            "Mounted at /content/drive\n"
          ]
        }
      ],
      "source": [
        "from google.colab import drive\n",
        "drive.mount('/content/drive')"
      ]
    },
    {
      "cell_type": "code",
      "source": [
        "from pathlib import Path\n",
        "import pandas as pd\n",
        "import numpy as np\n",
        "import math\n",
        "import xml.etree.ElementTree as ET\n",
        "import shutil\n",
        "import os\n",
        "import pylab as pl\n",
        "import seaborn as sns\n",
        "%pylab inline"
      ],
      "metadata": {
        "colab": {
          "base_uri": "https://localhost:8080/"
        },
        "id": "OW3KduBwvjF0",
        "outputId": "ddb1fe5c-4e09-476e-ef58-3a6d66e63487"
      },
      "execution_count": 2,
      "outputs": [
        {
          "output_type": "stream",
          "name": "stdout",
          "text": [
            "Populating the interactive namespace from numpy and matplotlib\n"
          ]
        }
      ]
    },
    {
      "cell_type": "code",
      "source": [
        "working_path = Path('/content/drive/MyDrive/KKNV/protocols')\n",
        "destination_path = Path('/content/drive/MyDrive/KKNV/protocols/new_protocols')"
      ],
      "metadata": {
        "id": "tPkdlg7Mvkby"
      },
      "execution_count": 32,
      "outputs": []
    },
    {
      "cell_type": "code",
      "source": [
        "cd /content/drive/MyDrive/KKNV/protocols"
      ],
      "metadata": {
        "colab": {
          "base_uri": "https://localhost:8080/"
        },
        "id": "hmlP7XoTvmU6",
        "outputId": "343d53df-86a1-407f-8aff-0a27edd4c2e9"
      },
      "execution_count": 4,
      "outputs": [
        {
          "output_type": "stream",
          "name": "stdout",
          "text": [
            "/content/drive/MyDrive/KKNV/protocols\n"
          ]
        }
      ]
    },
    {
      "cell_type": "code",
      "source": [
        "!ls /content/drive/MyDrive/KKNV/protocols"
      ],
      "metadata": {
        "colab": {
          "base_uri": "https://localhost:8080/"
        },
        "id": "n1a5L--8vmXR",
        "outputId": "66270a6b-71be-48f0-d767-30d59aa155b1"
      },
      "execution_count": 5,
      "outputs": [
        {
          "output_type": "stream",
          "name": "stdout",
          "text": [
            " counterbalancing.csv  'Template Real V1 HD-tDCS.neprot'  'Template Sham V1 HD-tDCS.neprot'\n",
            " new_protocols\t       'Template Real V5 HD-tDCS.neprot'  'Template Sham V5 HD-tDCS.neprot'\n"
          ]
        }
      ]
    },
    {
      "cell_type": "markdown",
      "source": [
        "Let's try to copy files and see whether it works"
      ],
      "metadata": {
        "id": "HLQ16vwSv-CC"
      }
    },
    {
      "cell_type": "code",
      "source": [
        "# counterbalancing data\n",
        "cdata = pd.read_csv(\n",
        "    working_path.joinpath('counterbalancing.csv'),\n",
        "    index_col=None,\n",
        "    low_memory=False\n",
        ")"
      ],
      "metadata": {
        "id": "jif3Ds3P4blv"
      },
      "execution_count": 6,
      "outputs": []
    },
    {
      "cell_type": "code",
      "source": [
        "# Function to update the template name within the .neprot file\n",
        "# file_path - the copied file that needs the name to be changed\n",
        "# new_template_name - is the new name for the given protocol\n",
        "def update_template_name(file_path, new_template_name):\n",
        "    # Parse the .neprot file as XML\n",
        "    tree = ET.parse(file_path)\n",
        "    root = tree.getroot()\n",
        "\n",
        "    # Find the TemplateName element and update its text\n",
        "    template_name_element = root.find(\".//TemplateName\")\n",
        "    if template_name_element is not None:\n",
        "        template_name_element.text = new_template_name\n",
        "\n",
        "        # Save the modified XML back to the same .neprot file\n",
        "        tree.write(file_path)\n",
        "\n",
        "        print(f\"Template name updated to '{new_template_name}'.\")\n",
        "        print(f\"Changes saved to the existing .neprot file at '{file_path}'.\")\n",
        "    else:\n",
        "        print(\"Error: TemplateName element not found.\")"
      ],
      "metadata": {
        "id": "wNsEYUUX3P6p"
      },
      "execution_count": 7,
      "outputs": []
    },
    {
      "cell_type": "code",
      "source": [
        "# this part includes assigning the codes the real conditions\n",
        "# BE CAREFUL IN THE FINAL RUN OF THIS CODE\n",
        "# potential codes are: Real V5, Real V1, Sham\n",
        "# potential codes for areas are: V5, V1\n",
        "condition1 = input(\"Enter the code for condition #1: \")\n",
        "condition2 = input(\"Enter the code for condition #2: \")\n",
        "condition3 = input(\"Enter the code for condition #3: \")\n",
        "areaA = input(\"Enter area A: \")\n",
        "areaB = input(\"Enter area B: \")"
      ],
      "metadata": {
        "colab": {
          "base_uri": "https://localhost:8080/"
        },
        "id": "Ekk7bIp267OQ",
        "outputId": "6776f9ed-82c6-4ba6-fead-88c52ca8a0e3"
      },
      "execution_count": 20,
      "outputs": [
        {
          "name": "stdout",
          "output_type": "stream",
          "text": [
            "Enter the code for condition #1: Real V5\n",
            "Enter the code for condition #2: Real V1\n",
            "Enter the code for condition #3: Sham\n",
            "Enter area A: V5\n",
            "Enter area B: V1\n"
          ]
        }
      ]
    },
    {
      "cell_type": "code",
      "source": [
        "# List all files in the source folder\n",
        "files = ['Template Real V5 HD-tDCS.neprot', 'Template Sham V5 HD-tDCS.neprot', 'Template Real V1 HD-tDCS.neprot', 'Template Sham V1 HD-tDCS.neprot']\n",
        "\n",
        "# here i associate conditions with numbers - as in the \"cdata\" table they are written as numbers\n",
        "number_to_condition = {\n",
        "    1: condition1,\n",
        "    2: condition2,\n",
        "    3: condition3\n",
        "}\n",
        "\n",
        "letter_to_area = {\n",
        "    'A': areaA,\n",
        "    'B': areaB\n",
        "}\n",
        "\n",
        "for i in range(0, cdata.shape[0]):\n",
        "  # for each subject getting information on their sessions\n",
        "  # code for subject i: would be either 1, 2, or 3\n",
        "  subject = cdata.loc[i, 'Subject']\n",
        "  session1 = cdata.loc[i, 'Stimulation1']\n",
        "  session2 = cdata.loc[i, 'Stimulation2']\n",
        "  session3 = cdata.loc[i, 'Stimulation3']\n",
        "  sham_session = cdata.loc[i, 'Sham']\n",
        "  #sham site location for this subject\n",
        "  sham_site = letter_to_area.get(sham_session)\n",
        "  print(session1, session2, session3, sham_session)\n",
        "  print(cdata[cdata['Subject'] == i+1])\n",
        "  print(sham_site)\n",
        "\n",
        "  # session 1\n",
        "  condition_session1 = number_to_condition.get(session1)\n",
        "  if condition_session1 == 'Sham':\n",
        "    # then we have to get the location of sham\n",
        "    # change the name according to location\n",
        "    condition_session1 = condition_session1 + ' ' + sham_site\n",
        "  print('Session 1', condition_session1)\n",
        "  for file in files:\n",
        "    if condition_session1 in file:\n",
        "      source_file_path = os.path.join(working_path, file)\n",
        "  new_template_name = 'Protocol' + str(subject) + '_' + str(1)\n",
        "  new_copy_path = os.path.join(destination_path, new_template_name)\n",
        "  shutil.copy(source_file_path, new_copy_path)\n",
        "  update_template_name(new_copy_path, new_template_name)\n",
        "  print(f\"Copied {file} to destination folder as {new_template_name}.\")\n",
        "\n",
        "  # session 2\n",
        "  condition_session2 = number_to_condition.get(session2)\n",
        "  if condition_session2 == 'Sham':\n",
        "    # then we have to get the location of sham\n",
        "    condition_session2 = condition_session2 + ' ' + sham_site\n",
        "  print('Session 2', condition_session2)\n",
        "  for file in files:\n",
        "    if condition_session2 in file:\n",
        "      source_file_path = os.path.join(working_path, file)\n",
        "  new_template_name = 'Protocol' + str(subject) + '_' + str(2)\n",
        "  new_copy_path = os.path.join(destination_path, new_template_name)\n",
        "  shutil.copy(source_file_path, new_copy_path)\n",
        "  update_template_name(new_copy_path, new_template_name)\n",
        "  print(f\"Copied {file} to destination folder as {new_template_name}.\")\n",
        "\n",
        "  # session 3\n",
        "  condition_session3 = number_to_condition.get(session3)\n",
        "  if condition_session3 == 'Sham':\n",
        "    # then we have to get the location of sham\n",
        "    condition_session3 = condition_session3 + ' ' + sham_site\n",
        "  print('Session 3', condition_session3)\n",
        "  for file in files:\n",
        "    if condition_session3 in file:\n",
        "      source_file_path = os.path.join(working_path, file)\n",
        "  new_template_name = 'Protocol' + str(subject) + '_' + str(3)\n",
        "  new_copy_path = os.path.join(destination_path, new_template_name)\n",
        "  shutil.copy(source_file_path, new_copy_path)\n",
        "  update_template_name(new_copy_path, new_template_name)\n",
        "  print(f\"Copied {file} to destination folder as {new_template_name}.\")\n",
        "\n"
      ],
      "metadata": {
        "id": "ZUXZSZxB7YvY",
        "colab": {
          "base_uri": "https://localhost:8080/"
        },
        "outputId": "ef443e92-47c4-42ce-e959-9987c75c4075"
      },
      "execution_count": 33,
      "outputs": [
        {
          "output_type": "stream",
          "name": "stdout",
          "text": [
            "1 2 3 B\n",
            "   Subject  Stimulation1  Stimulation2  Stimulation3 Sham\n",
            "0        1             1             2             3    B\n",
            "V1\n",
            "Session 1 Real V5\n",
            "Template name updated to 'Protocol1_1'.\n",
            "Modified .neprot file saved as '/content/drive/MyDrive/KKNV/protocols/new_protocols/Protocol1_1_modified.neprot'.\n",
            "Copied Template Sham V1 HD-tDCS.neprot to destination folder as Protocol1_1.\n",
            "Session 2 Real V1\n",
            "Template name updated to 'Protocol1_2'.\n",
            "Modified .neprot file saved as '/content/drive/MyDrive/KKNV/protocols/new_protocols/Protocol1_2_modified.neprot'.\n",
            "Copied Template Sham V1 HD-tDCS.neprot to destination folder as Protocol1_2.\n",
            "Session 3 Sham V1\n",
            "Template name updated to 'Protocol1_3'.\n",
            "Modified .neprot file saved as '/content/drive/MyDrive/KKNV/protocols/new_protocols/Protocol1_3_modified.neprot'.\n",
            "Copied Template Sham V1 HD-tDCS.neprot to destination folder as Protocol1_3.\n"
          ]
        }
      ]
    },
    {
      "cell_type": "code",
      "source": [],
      "metadata": {
        "id": "bVXGACnOvmbU"
      },
      "execution_count": null,
      "outputs": []
    }
  ]
}